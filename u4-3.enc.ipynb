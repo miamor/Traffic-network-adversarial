{
 "cells": [
  {
   "cell_type": "markdown",
   "metadata": {},
   "source": [
    "# Impmort"
   ]
  },
  {
   "cell_type": "code",
   "execution_count": 23,
   "metadata": {},
   "outputs": [],
   "source": [
    "import numpy as np\n",
    "import pandas as pd\n",
    "\n",
    "import warnings\n",
    "warnings.filterwarnings(\"ignore\")\n",
    "\n",
    "from sklearn.preprocessing import StandardScaler,MinMaxScaler"
   ]
  },
  {
   "cell_type": "markdown",
   "metadata": {},
   "source": [
    "# Read data"
   ]
  },
  {
   "cell_type": "code",
   "execution_count": 24,
   "metadata": {
    "colab": {},
    "colab_type": "code",
    "id": "NOMATARHRcV5"
   },
   "outputs": [],
   "source": [
    "data_dir = 'data'\n",
    "af = 'u'\n",
    "\n",
    "pf1 = f'7200-3600'\n",
    "pf = f'7200-3600.__2__'\n",
    "\n",
    "df__train = pd.read_csv(f'{data_dir}/tr.{af}4.{pf1}.csv', index_col=[0])\n",
    "df__test = pd.read_csv(f'{data_dir}/t.{af}4.{pf1}.csv', index_col=[0])\n",
    "# df__val = pd.read_csv(f'{data_dir}/v.{af}4.{pf1}.csv', index_col=[0])"
   ]
  },
  {
   "cell_type": "code",
   "execution_count": 25,
   "metadata": {},
   "outputs": [
    {
     "name": "stdout",
     "output_type": "stream",
     "text": [
      "279418 18226\n"
     ]
    }
   ],
   "source": [
    "print(len(df__train), len(df__test))"
   ]
  },
  {
   "cell_type": "code",
   "execution_count": 26,
   "metadata": {},
   "outputs": [],
   "source": [
    "# df__test['Label']"
   ]
  },
  {
   "cell_type": "code",
   "execution_count": 27,
   "metadata": {},
   "outputs": [
    {
     "data": {
      "text/html": [
       "<div>\n",
       "<style scoped>\n",
       "    .dataframe tbody tr th:only-of-type {\n",
       "        vertical-align: middle;\n",
       "    }\n",
       "\n",
       "    .dataframe tbody tr th {\n",
       "        vertical-align: top;\n",
       "    }\n",
       "\n",
       "    .dataframe thead th {\n",
       "        text-align: right;\n",
       "    }\n",
       "</style>\n",
       "<table border=\"1\" class=\"dataframe\">\n",
       "  <thead>\n",
       "    <tr style=\"text-align: right;\">\n",
       "      <th></th>\n",
       "      <th>Conversation</th>\n",
       "      <th>SrcAddr</th>\n",
       "      <th>DstAddr</th>\n",
       "      <th>State</th>\n",
       "      <th>Proto</th>\n",
       "      <th>n_flows</th>\n",
       "      <th>StreamID_unique</th>\n",
       "      <th>Sport_nunique</th>\n",
       "      <th>Sport_mean</th>\n",
       "      <th>Sport_std</th>\n",
       "      <th>...</th>\n",
       "      <th>DstBytesPerSec_median</th>\n",
       "      <th>DstBytesPerSec_RU</th>\n",
       "      <th>BytesPerPkt_mean</th>\n",
       "      <th>BytesPerPkt_std</th>\n",
       "      <th>BytesPerPkt_max</th>\n",
       "      <th>BytesPerPkt_median</th>\n",
       "      <th>BytesPerPkt_RU</th>\n",
       "      <th>Label</th>\n",
       "      <th>window_id</th>\n",
       "      <th>LabelStr</th>\n",
       "    </tr>\n",
       "  </thead>\n",
       "  <tbody>\n",
       "    <tr>\n",
       "      <th>5306</th>\n",
       "      <td>41.232.73.23 -&gt; 150.35.87.168</td>\n",
       "      <td>41.232.73.23</td>\n",
       "      <td>150.35.87.168</td>\n",
       "      <td>alltcp</td>\n",
       "      <td>tcp</td>\n",
       "      <td>2</td>\n",
       "      <td>[ 1976 51591]</td>\n",
       "      <td>2</td>\n",
       "      <td>6668.0</td>\n",
       "      <td>1.414214</td>\n",
       "      <td>...</td>\n",
       "      <td>1.725578</td>\n",
       "      <td>1.0</td>\n",
       "      <td>81.047175</td>\n",
       "      <td>10.549573</td>\n",
       "      <td>88.506849</td>\n",
       "      <td>81.047175</td>\n",
       "      <td>1.0</td>\n",
       "      <td>5</td>\n",
       "      <td>0</td>\n",
       "      <td>flow=From-Botnet-V44-TCP-CC107-IRC-Not-Encrypted</td>\n",
       "    </tr>\n",
       "    <tr>\n",
       "      <th>3458</th>\n",
       "      <td>41.232.73.23 -&gt; 150.35.87.168</td>\n",
       "      <td>41.232.73.23</td>\n",
       "      <td>150.35.87.168</td>\n",
       "      <td>alltcp</td>\n",
       "      <td>tcp</td>\n",
       "      <td>2</td>\n",
       "      <td>[51591 84191]</td>\n",
       "      <td>2</td>\n",
       "      <td>6666.5</td>\n",
       "      <td>0.707107</td>\n",
       "      <td>...</td>\n",
       "      <td>1.735833</td>\n",
       "      <td>1.0</td>\n",
       "      <td>81.148486</td>\n",
       "      <td>10.406297</td>\n",
       "      <td>88.506849</td>\n",
       "      <td>81.148486</td>\n",
       "      <td>1.0</td>\n",
       "      <td>5</td>\n",
       "      <td>1</td>\n",
       "      <td>flow=From-Botnet-V44-TCP-CC107-IRC-Not-Encrypted</td>\n",
       "    </tr>\n",
       "    <tr>\n",
       "      <th>1934</th>\n",
       "      <td>41.232.73.23 -&gt; 150.35.87.168</td>\n",
       "      <td>41.232.73.23</td>\n",
       "      <td>150.35.87.168</td>\n",
       "      <td>alltcp</td>\n",
       "      <td>tcp</td>\n",
       "      <td>2</td>\n",
       "      <td>[ 84191 101058]</td>\n",
       "      <td>2</td>\n",
       "      <td>6667.0</td>\n",
       "      <td>1.414214</td>\n",
       "      <td>...</td>\n",
       "      <td>0.609414</td>\n",
       "      <td>1.0</td>\n",
       "      <td>73.265432</td>\n",
       "      <td>0.742026</td>\n",
       "      <td>73.790123</td>\n",
       "      <td>73.265432</td>\n",
       "      <td>1.0</td>\n",
       "      <td>5</td>\n",
       "      <td>2</td>\n",
       "      <td>flow=From-Botnet-V44-TCP-CC107-IRC-Not-Encrypted</td>\n",
       "    </tr>\n",
       "    <tr>\n",
       "      <th>637</th>\n",
       "      <td>41.232.73.23 -&gt; 150.35.87.168</td>\n",
       "      <td>41.232.73.23</td>\n",
       "      <td>150.35.87.168</td>\n",
       "      <td>alltcp</td>\n",
       "      <td>tcp</td>\n",
       "      <td>2</td>\n",
       "      <td>[101058 109906]</td>\n",
       "      <td>2</td>\n",
       "      <td>6667.5</td>\n",
       "      <td>0.707107</td>\n",
       "      <td>...</td>\n",
       "      <td>0.593343</td>\n",
       "      <td>1.0</td>\n",
       "      <td>73.045370</td>\n",
       "      <td>0.430811</td>\n",
       "      <td>73.350000</td>\n",
       "      <td>73.045370</td>\n",
       "      <td>1.0</td>\n",
       "      <td>5</td>\n",
       "      <td>3</td>\n",
       "      <td>flow=From-Botnet-V44-TCP-CC107-IRC-Not-Encrypted</td>\n",
       "    </tr>\n",
       "    <tr>\n",
       "      <th>165</th>\n",
       "      <td>41.232.73.23 -&gt; 150.35.87.168</td>\n",
       "      <td>41.232.73.23</td>\n",
       "      <td>150.35.87.168</td>\n",
       "      <td>alltcp</td>\n",
       "      <td>tcp</td>\n",
       "      <td>2</td>\n",
       "      <td>[109906 115675]</td>\n",
       "      <td>2</td>\n",
       "      <td>6667.5</td>\n",
       "      <td>0.707107</td>\n",
       "      <td>...</td>\n",
       "      <td>0.587141</td>\n",
       "      <td>1.0</td>\n",
       "      <td>73.212500</td>\n",
       "      <td>0.194454</td>\n",
       "      <td>73.350000</td>\n",
       "      <td>73.212500</td>\n",
       "      <td>1.0</td>\n",
       "      <td>5</td>\n",
       "      <td>4</td>\n",
       "      <td>flow=From-Botnet-V44-TCP-CC107-IRC-Not-Encrypted</td>\n",
       "    </tr>\n",
       "  </tbody>\n",
       "</table>\n",
       "<p>5 rows × 71 columns</p>\n",
       "</div>"
      ],
      "text/plain": [
       "                       Conversation       SrcAddr        DstAddr   State  \\\n",
       "5306  41.232.73.23 -> 150.35.87.168  41.232.73.23  150.35.87.168  alltcp   \n",
       "3458  41.232.73.23 -> 150.35.87.168  41.232.73.23  150.35.87.168  alltcp   \n",
       "1934  41.232.73.23 -> 150.35.87.168  41.232.73.23  150.35.87.168  alltcp   \n",
       "637   41.232.73.23 -> 150.35.87.168  41.232.73.23  150.35.87.168  alltcp   \n",
       "165   41.232.73.23 -> 150.35.87.168  41.232.73.23  150.35.87.168  alltcp   \n",
       "\n",
       "     Proto  n_flows  StreamID_unique  Sport_nunique  Sport_mean  Sport_std  \\\n",
       "5306   tcp        2    [ 1976 51591]              2      6668.0   1.414214   \n",
       "3458   tcp        2    [51591 84191]              2      6666.5   0.707107   \n",
       "1934   tcp        2  [ 84191 101058]              2      6667.0   1.414214   \n",
       "637    tcp        2  [101058 109906]              2      6667.5   0.707107   \n",
       "165    tcp        2  [109906 115675]              2      6667.5   0.707107   \n",
       "\n",
       "      ...  DstBytesPerSec_median  DstBytesPerSec_RU  BytesPerPkt_mean  \\\n",
       "5306  ...               1.725578                1.0         81.047175   \n",
       "3458  ...               1.735833                1.0         81.148486   \n",
       "1934  ...               0.609414                1.0         73.265432   \n",
       "637   ...               0.593343                1.0         73.045370   \n",
       "165   ...               0.587141                1.0         73.212500   \n",
       "\n",
       "      BytesPerPkt_std  BytesPerPkt_max  BytesPerPkt_median  BytesPerPkt_RU  \\\n",
       "5306        10.549573        88.506849           81.047175             1.0   \n",
       "3458        10.406297        88.506849           81.148486             1.0   \n",
       "1934         0.742026        73.790123           73.265432             1.0   \n",
       "637          0.430811        73.350000           73.045370             1.0   \n",
       "165          0.194454        73.350000           73.212500             1.0   \n",
       "\n",
       "      Label  window_id                                          LabelStr  \n",
       "5306      5          0  flow=From-Botnet-V44-TCP-CC107-IRC-Not-Encrypted  \n",
       "3458      5          1  flow=From-Botnet-V44-TCP-CC107-IRC-Not-Encrypted  \n",
       "1934      5          2  flow=From-Botnet-V44-TCP-CC107-IRC-Not-Encrypted  \n",
       "637       5          3  flow=From-Botnet-V44-TCP-CC107-IRC-Not-Encrypted  \n",
       "165       5          4  flow=From-Botnet-V44-TCP-CC107-IRC-Not-Encrypted  \n",
       "\n",
       "[5 rows x 71 columns]"
      ]
     },
     "execution_count": 27,
     "metadata": {},
     "output_type": "execute_result"
    }
   ],
   "source": [
    "df__test.loc[df__test['Label'] == 5].head()"
   ]
  },
  {
   "cell_type": "code",
   "execution_count": 28,
   "metadata": {},
   "outputs": [
    {
     "data": {
      "text/plain": [
       "\"Conversation','SrcAddr','DstAddr','State','Proto','n_flows','StreamID_unique','Sport_nunique','Sport_mean','Sport_std','Sport_max','Sport_median','Sport_RU','Dport_nunique','Dport_mean','Dport_std','Dport_max','Dport_median','Dport_RU','TotBytes_sum','TotBytes_mean','TotBytes_std','TotBytes_max','TotBytes_median','TotBytes_RU','SrcBytes_sum','SrcBytes_mean','SrcBytes_std','SrcBytes_max','SrcBytes_median','SrcBytes_RU','DstBytes_sum','DstBytes_mean','DstBytes_std','DstBytes_max','DstBytes_median','DstBytes_RU','TotPkts_sum','TotPkts_mean','TotPkts_std','TotPkts_max','TotPkts_median','TotPkts_RU','PktsPerSec_mean','PktsPerSec_std','PktsPerSec_max','PktsPerSec_median','PktsPerSec_RU','BytesPerSec_mean','BytesPerSec_std','BytesPerSec_max','BytesPerSec_median','BytesPerSec_RU','SrcBytesPerSec_mean','SrcBytesPerSec_std','SrcBytesPerSec_max','SrcBytesPerSec_median','SrcBytesPerSec_RU','DstBytesPerSec_mean','DstBytesPerSec_std','DstBytesPerSec_max','DstBytesPerSec_median','DstBytesPerSec_RU','BytesPerPkt_mean','BytesPerPkt_std','BytesPerPkt_max','BytesPerPkt_median','BytesPerPkt_RU','Label','window_id','LabelStr\""
      ]
     },
     "execution_count": 28,
     "metadata": {},
     "output_type": "execute_result"
    }
   ],
   "source": [
    "\"','\".join(df__train.columns)"
   ]
  },
  {
   "cell_type": "code",
   "execution_count": null,
   "metadata": {},
   "outputs": [],
   "source": []
  },
  {
   "cell_type": "markdown",
   "metadata": {},
   "source": [
    "# One-hot encode"
   ]
  },
  {
   "cell_type": "markdown",
   "metadata": {},
   "source": [
    "## Common Proto & State values"
   ]
  },
  {
   "cell_type": "code",
   "execution_count": 29,
   "metadata": {},
   "outputs": [
    {
     "name": "stdout",
     "output_type": "stream",
     "text": [
      "udp     185550\n",
      "tcp      86110\n",
      "icmp      5177\n",
      "arp       1878\n",
      "igmp       640\n",
      "rtp         29\n",
      "ipv6        17\n",
      "rtcp        15\n",
      "rsvp         2\n",
      "Name: Proto, dtype: int64 \n",
      "\n",
      "CON         176115\n",
      "alltcp       86110\n",
      "INT          10309\n",
      "ECR           1287\n",
      "REQ           1257\n",
      "RED           1245\n",
      "ECO            726\n",
      "URP            689\n",
      "URH            455\n",
      "RSP            450\n",
      "TXD            330\n",
      "URHPRO         221\n",
      "URN            183\n",
      "URO             17\n",
      "URFIL           16\n",
      "DCE              5\n",
      "URF              2\n",
      "nanvalue         1\n",
      "Name: State, dtype: int64\n"
     ]
    }
   ],
   "source": [
    "df__train.loc[(df__train['State'].str.contains('_')), 'State'] = 'alltcp'\n",
    "df__test.loc[(df__test['State'].str.contains('_')), 'State'] = 'alltcp'\n",
    "print(df__train['Proto'].value_counts(), '\\n')\n",
    "print(df__train['State'].value_counts())"
   ]
  },
  {
   "cell_type": "code",
   "execution_count": 30,
   "metadata": {},
   "outputs": [
    {
     "data": {
      "text/plain": [
       "udp     185550\n",
       "tcp      86110\n",
       "icmp      5177\n",
       "Name: Proto, dtype: int64"
      ]
     },
     "execution_count": 30,
     "metadata": {},
     "output_type": "execute_result"
    }
   ],
   "source": [
    "df__train['Proto'].value_counts()[:3]"
   ]
  },
  {
   "cell_type": "markdown",
   "metadata": {},
   "source": [
    "## Encode"
   ]
  },
  {
   "cell_type": "code",
   "execution_count": 31,
   "metadata": {},
   "outputs": [
    {
     "name": "stdout",
     "output_type": "stream",
     "text": [
      "['CON', 'alltcp', 'INT', 'ECR', 'REQ', 'RED', 'ECO', 'URP', 'URH', 'RSP', 'TXD', 'URHPRO', 'URN', 'URO', 'URFIL', 'DCE', 'URF', 'nanvalue']\n"
     ]
    }
   ],
   "source": [
    "\"\"\" replace infrequent state with other \"\"\"\n",
    "# fr = df__train['State'].value_counts()\n",
    "# filt = fr[fr > 100]\n",
    "# common_state_list = list(filt.index)\n",
    "common_state_list = list(df__train['State'].value_counts()[:20].index)\n",
    "print(common_state_list)\n",
    "df__train.loc[(~df__train['State'].str.contains('_')) & (~df__train['State'].isin(common_state_list)), 'State'] = 'other'\n",
    "df__test.loc[(~df__test['State'].str.contains('_')) & (~df__test['State'].isin(common_state_list)), 'State'] = 'other'\n",
    "# df__val.loc[(~df__val['State'].str.contains('_')) & (~df__val['State'].isin(common_state_list)), 'State'] = 'other'"
   ]
  },
  {
   "cell_type": "code",
   "execution_count": 32,
   "metadata": {},
   "outputs": [
    {
     "name": "stdout",
     "output_type": "stream",
     "text": [
      "['udp', 'tcp', 'icmp']\n"
     ]
    }
   ],
   "source": [
    "\"\"\" replace infrequent proto with other \"\"\"\n",
    "# fr = df__train['Proto'].value_counts()\n",
    "# filt = fr[fr > 100]\n",
    "# common_proto_list = list(filt.index)\n",
    "common_proto_list = list(df__train['Proto'].value_counts()[:3].index)\n",
    "print(common_proto_list)\n",
    "df__train.loc[~df__train['Proto'].isin(common_proto_list), 'Proto'] = 'other'\n",
    "df__test.loc[~df__test['Proto'].isin(common_proto_list), 'Proto'] = 'other'\n",
    "# df__val.loc[~df__val['Proto'].isin(common_proto_list), 'Proto'] = 'other'"
   ]
  },
  {
   "cell_type": "code",
   "execution_count": 33,
   "metadata": {},
   "outputs": [],
   "source": [
    "# df__train['State'].value_counts()"
   ]
  },
  {
   "cell_type": "code",
   "execution_count": 34,
   "metadata": {},
   "outputs": [
    {
     "name": "stdout",
     "output_type": "stream",
     "text": [
      "proto_list ['udp', 'tcp', 'icmp', 'other']\n",
      "state_list ['CON', 'alltcp', 'INT', 'ECR', 'REQ', 'RED', 'ECO', 'URP', 'URH', 'RSP', 'TXD', 'URHPRO', 'URN', 'URO', 'URFIL', 'DCE', 'URF', 'nanvalue', 'other']\n",
      "categories [['udp', 'tcp', 'icmp', 'other'], ['CON', 'alltcp', 'INT', 'ECR', 'REQ', 'RED', 'ECO', 'URP', 'URH', 'RSP', 'TXD', 'URHPRO', 'URN', 'URO', 'URFIL', 'DCE', 'URF', 'nanvalue', 'other']]\n",
      "onehot_cols ['P_udp', 'P_tcp', 'P_icmp', 'P_other', 'S_CON', 'S_alltcp', 'S_INT', 'S_ECR', 'S_REQ', 'S_RED', 'S_ECO', 'S_URP', 'S_URH', 'S_RSP', 'S_TXD', 'S_URHPRO', 'S_URN', 'S_URO', 'S_URFIL', 'S_DCE', 'S_URF', 'S_nanvalue', 'S_other']\n"
     ]
    }
   ],
   "source": [
    "\"\"\" \n",
    "onehot encode string fields \n",
    "\"\"\"\n",
    "\n",
    "from sklearn.compose import make_column_transformer\n",
    "from sklearn.preprocessing import OneHotEncoder\n",
    "\n",
    "\n",
    "\"\"\" get categories to encode \"\"\"\n",
    "proto_list = common_proto_list + ['other']\n",
    "state_list = common_state_list + ['other']\n",
    "categories = [proto_list, state_list]\n",
    "\n",
    "onehot_cols_proto = ['P_'+p for p in proto_list]\n",
    "onehot_cols_state = ['S_'+p for p in state_list]\n",
    "onehot_cols = onehot_cols_proto + onehot_cols_state\n",
    "\n",
    "print('proto_list', proto_list)\n",
    "print('state_list', state_list)\n",
    "print('categories', categories)\n",
    "print('onehot_cols', onehot_cols)\n",
    "\n",
    "\"\"\" encode. fit & transform \"\"\"\n",
    "# ct_train = make_column_transformer((OneHotEncoder(categories='auto', handle_unknown='infrequent_if_exist', max_categories=15), [0, 1]), remainder=\"passthrough\")\n",
    "ct_train = make_column_transformer((OneHotEncoder(categories=categories), [0,1]), remainder=\"passthrough\")\n",
    "Xtrain_enc = ct_train.fit_transform(df__train[['Proto','State']])\n",
    "Xtrain_enc = Xtrain_enc.astype('float64').toarray()\n",
    "df_Xtrain_enc = pd.DataFrame(Xtrain_enc, columns=onehot_cols)\n",
    "\n",
    "Xtest_enc = ct_train.transform(df__test[['Proto','State']])\n",
    "Xtest_enc = Xtest_enc.astype('float64').toarray()\n",
    "df_Xtest_enc = pd.DataFrame(Xtest_enc, columns=onehot_cols)\n",
    "\n",
    "# Xval_enc = ct_train.transform(df__val[['Proto','State']])\n",
    "# Xval_enc = Xval_enc.astype('float64').toarray()\n",
    "# df_Xval_enc = pd.DataFrame(Xval_enc, columns=onehot_cols)"
   ]
  },
  {
   "cell_type": "code",
   "execution_count": 35,
   "metadata": {},
   "outputs": [
    {
     "data": {
      "text/html": [
       "<div>\n",
       "<style scoped>\n",
       "    .dataframe tbody tr th:only-of-type {\n",
       "        vertical-align: middle;\n",
       "    }\n",
       "\n",
       "    .dataframe tbody tr th {\n",
       "        vertical-align: top;\n",
       "    }\n",
       "\n",
       "    .dataframe thead th {\n",
       "        text-align: right;\n",
       "    }\n",
       "</style>\n",
       "<table border=\"1\" class=\"dataframe\">\n",
       "  <thead>\n",
       "    <tr style=\"text-align: right;\">\n",
       "      <th></th>\n",
       "      <th>Conversation</th>\n",
       "      <th>SrcAddr</th>\n",
       "      <th>DstAddr</th>\n",
       "      <th>State</th>\n",
       "      <th>Proto</th>\n",
       "      <th>n_flows</th>\n",
       "      <th>StreamID_unique</th>\n",
       "      <th>Sport_nunique</th>\n",
       "      <th>Sport_mean</th>\n",
       "      <th>Sport_std</th>\n",
       "      <th>...</th>\n",
       "      <th>S_RSP</th>\n",
       "      <th>S_TXD</th>\n",
       "      <th>S_URHPRO</th>\n",
       "      <th>S_URN</th>\n",
       "      <th>S_URO</th>\n",
       "      <th>S_URFIL</th>\n",
       "      <th>S_DCE</th>\n",
       "      <th>S_URF</th>\n",
       "      <th>S_nanvalue</th>\n",
       "      <th>S_other</th>\n",
       "    </tr>\n",
       "  </thead>\n",
       "  <tbody>\n",
       "    <tr>\n",
       "      <th>0</th>\n",
       "      <td>112.68.196.144 -&gt; 150.35.88.126</td>\n",
       "      <td>112.68.196.144</td>\n",
       "      <td>150.35.88.126</td>\n",
       "      <td>INT</td>\n",
       "      <td>udp</td>\n",
       "      <td>3</td>\n",
       "      <td>[  912  4512 53830]</td>\n",
       "      <td>2</td>\n",
       "      <td>57821.666667</td>\n",
       "      <td>0.577350</td>\n",
       "      <td>...</td>\n",
       "      <td>0.0</td>\n",
       "      <td>0.0</td>\n",
       "      <td>0.0</td>\n",
       "      <td>0.0</td>\n",
       "      <td>0.0</td>\n",
       "      <td>0.0</td>\n",
       "      <td>0.0</td>\n",
       "      <td>0.0</td>\n",
       "      <td>0.0</td>\n",
       "      <td>0.0</td>\n",
       "    </tr>\n",
       "    <tr>\n",
       "      <th>1</th>\n",
       "      <td>112.68.196.144 -&gt; 150.35.88.126</td>\n",
       "      <td>112.68.196.144</td>\n",
       "      <td>150.35.88.126</td>\n",
       "      <td>alltcp</td>\n",
       "      <td>tcp</td>\n",
       "      <td>4</td>\n",
       "      <td>[36533 48509 59196 70068]</td>\n",
       "      <td>4</td>\n",
       "      <td>2319.750000</td>\n",
       "      <td>1202.688204</td>\n",
       "      <td>...</td>\n",
       "      <td>0.0</td>\n",
       "      <td>0.0</td>\n",
       "      <td>0.0</td>\n",
       "      <td>0.0</td>\n",
       "      <td>0.0</td>\n",
       "      <td>0.0</td>\n",
       "      <td>0.0</td>\n",
       "      <td>0.0</td>\n",
       "      <td>0.0</td>\n",
       "      <td>0.0</td>\n",
       "    </tr>\n",
       "    <tr>\n",
       "      <th>2</th>\n",
       "      <td>112.68.196.144 -&gt; 150.35.88.126</td>\n",
       "      <td>112.68.196.144</td>\n",
       "      <td>150.35.88.126</td>\n",
       "      <td>alltcp</td>\n",
       "      <td>tcp</td>\n",
       "      <td>6</td>\n",
       "      <td>[ 2243  6571  8988 12981 21172 25862]</td>\n",
       "      <td>6</td>\n",
       "      <td>2499.500000</td>\n",
       "      <td>1049.083552</td>\n",
       "      <td>...</td>\n",
       "      <td>0.0</td>\n",
       "      <td>0.0</td>\n",
       "      <td>0.0</td>\n",
       "      <td>0.0</td>\n",
       "      <td>0.0</td>\n",
       "      <td>0.0</td>\n",
       "      <td>0.0</td>\n",
       "      <td>0.0</td>\n",
       "      <td>0.0</td>\n",
       "      <td>0.0</td>\n",
       "    </tr>\n",
       "    <tr>\n",
       "      <th>3</th>\n",
       "      <td>150.35.87.141 -&gt; 150.35.83.12</td>\n",
       "      <td>150.35.87.141</td>\n",
       "      <td>150.35.83.12</td>\n",
       "      <td>CON</td>\n",
       "      <td>udp</td>\n",
       "      <td>17010</td>\n",
       "      <td>[   20    21    22 ... 82178 82179 82180]</td>\n",
       "      <td>12788</td>\n",
       "      <td>46925.880658</td>\n",
       "      <td>8154.914736</td>\n",
       "      <td>...</td>\n",
       "      <td>0.0</td>\n",
       "      <td>0.0</td>\n",
       "      <td>0.0</td>\n",
       "      <td>0.0</td>\n",
       "      <td>0.0</td>\n",
       "      <td>0.0</td>\n",
       "      <td>0.0</td>\n",
       "      <td>0.0</td>\n",
       "      <td>0.0</td>\n",
       "      <td>0.0</td>\n",
       "    </tr>\n",
       "    <tr>\n",
       "      <th>4</th>\n",
       "      <td>150.35.87.141 -&gt; 150.35.83.16</td>\n",
       "      <td>150.35.87.141</td>\n",
       "      <td>150.35.83.16</td>\n",
       "      <td>URP</td>\n",
       "      <td>icmp</td>\n",
       "      <td>2</td>\n",
       "      <td>[  472 49121]</td>\n",
       "      <td>1</td>\n",
       "      <td>771.000000</td>\n",
       "      <td>0.000000</td>\n",
       "      <td>...</td>\n",
       "      <td>0.0</td>\n",
       "      <td>0.0</td>\n",
       "      <td>0.0</td>\n",
       "      <td>0.0</td>\n",
       "      <td>0.0</td>\n",
       "      <td>0.0</td>\n",
       "      <td>0.0</td>\n",
       "      <td>0.0</td>\n",
       "      <td>0.0</td>\n",
       "      <td>0.0</td>\n",
       "    </tr>\n",
       "  </tbody>\n",
       "</table>\n",
       "<p>5 rows × 94 columns</p>\n",
       "</div>"
      ],
      "text/plain": [
       "                      Conversation         SrcAddr        DstAddr   State  \\\n",
       "0  112.68.196.144 -> 150.35.88.126  112.68.196.144  150.35.88.126     INT   \n",
       "1  112.68.196.144 -> 150.35.88.126  112.68.196.144  150.35.88.126  alltcp   \n",
       "2  112.68.196.144 -> 150.35.88.126  112.68.196.144  150.35.88.126  alltcp   \n",
       "3    150.35.87.141 -> 150.35.83.12   150.35.87.141   150.35.83.12     CON   \n",
       "4    150.35.87.141 -> 150.35.83.16   150.35.87.141   150.35.83.16     URP   \n",
       "\n",
       "  Proto  n_flows                            StreamID_unique  Sport_nunique  \\\n",
       "0   udp        3                        [  912  4512 53830]              2   \n",
       "1   tcp        4                  [36533 48509 59196 70068]              4   \n",
       "2   tcp        6      [ 2243  6571  8988 12981 21172 25862]              6   \n",
       "3   udp    17010  [   20    21    22 ... 82178 82179 82180]          12788   \n",
       "4  icmp        2                              [  472 49121]              1   \n",
       "\n",
       "     Sport_mean    Sport_std  ...  S_RSP  S_TXD  S_URHPRO  S_URN  S_URO  \\\n",
       "0  57821.666667     0.577350  ...    0.0    0.0       0.0    0.0    0.0   \n",
       "1   2319.750000  1202.688204  ...    0.0    0.0       0.0    0.0    0.0   \n",
       "2   2499.500000  1049.083552  ...    0.0    0.0       0.0    0.0    0.0   \n",
       "3  46925.880658  8154.914736  ...    0.0    0.0       0.0    0.0    0.0   \n",
       "4    771.000000     0.000000  ...    0.0    0.0       0.0    0.0    0.0   \n",
       "\n",
       "   S_URFIL  S_DCE  S_URF  S_nanvalue  S_other  \n",
       "0      0.0    0.0    0.0         0.0      0.0  \n",
       "1      0.0    0.0    0.0         0.0      0.0  \n",
       "2      0.0    0.0    0.0         0.0      0.0  \n",
       "3      0.0    0.0    0.0         0.0      0.0  \n",
       "4      0.0    0.0    0.0         0.0      0.0  \n",
       "\n",
       "[5 rows x 94 columns]"
      ]
     },
     "execution_count": 35,
     "metadata": {},
     "output_type": "execute_result"
    }
   ],
   "source": [
    "df__train = pd.concat([df__train.reset_index(), df_Xtrain_enc], axis=1).drop(columns=['index'])\n",
    "df__test = pd.concat([df__test.reset_index(), df_Xtest_enc], axis=1).drop(columns=['index'])\n",
    "# df__val = pd.concat([df__val.reset_index(), df_Xval_enc], axis=1).drop(columns=['index'])\n",
    "\n",
    "df__test.head()"
   ]
  },
  {
   "cell_type": "markdown",
   "metadata": {
    "colab_type": "text",
    "id": "OPugBJCJ4M2t"
   },
   "source": [
    "# Standardizing\n",
    "    \n",
    "As we have seen that the range of few features in this dataset is very large. So we will keep everything within certain range by applying standardscaler. After this all the features will have mean 0 and std 1"
   ]
  },
  {
   "cell_type": "code",
   "execution_count": 36,
   "metadata": {
    "colab": {},
    "colab_type": "code",
    "id": "zahQPu3dAZyJ"
   },
   "outputs": [],
   "source": [
    "# Standardizing the data\n",
    "numeric_cols = [\n",
    "       'n_flows',\n",
    "       # 'Sport_nunique','Sport_std','Sport_median','Sport_RU','Dport_nunique','Dport_mean','Dport_std','Dport_max','Dport_median','Dport_RU','TotBytes_sum','TotBytes_mean','TotBytes_std','TotBytes_max','TotBytes_median','TotBytes_RU','SrcBytes_sum','SrcBytes_mean','SrcBytes_std','SrcBytes_max','SrcBytes_median','SrcBytes_RU','DstBytes_sum','DstBytes_mean','DstBytes_std','DstBytes_max','DstBytes_median','DstBytes_RU','TotPkts_sum','TotPkts_mean','TotPkts_std','TotPkts_max','TotPkts_median','TotPkts_RU','PktsPerSec_std','PktsPerSec_median','PktsPerSec_RU','BytesPerSec_std','BytesPerSec_median','BytesPerSec_RU','SrcBytesPerSec_mean','SrcBytesPerSec_std','SrcBytesPerSec_median','SrcBytesPerSec_RU','DstBytesPerSec_mean','DstBytesPerSec_std','DstBytesPerSec_max','DstBytesPerSec_median','DstBytesPerSec_RU','BytesPerPkt_std','BytesPerPkt_median','BytesPerPkt_RU','PktsPerSec_mean','PktsPerSec_max','BytesPerSec_mean','BytesPerSec_max','SrcBytesPerSec_max','','BytesPerPkt_max',\n",
    "       'Sport_mean','Sport_max',\n",
    "       'BytesPerPkt_mean','PktsPerSec_mean','BytesPerSec_mean','BytesPerPkt_max','BytesPerSec_max','SrcBytesPerSec_max',\n",
    "]"
   ]
  },
  {
   "cell_type": "code",
   "execution_count": 37,
   "metadata": {},
   "outputs": [],
   "source": [
    "ms = MinMaxScaler()\n",
    "ms = ms.fit(df__train[numeric_cols].values)\n",
    "df__train[numeric_cols] = ms.transform(df__train[numeric_cols].values)\n",
    "df__test[numeric_cols] = ms.transform(df__test[numeric_cols].values)\n",
    "# df__val[numeric_cols] = ss.transform(df__val[numeric_cols].values)\n",
    "\n",
    "# print(ss.min_)\n",
    "# print(ss.scale_)"
   ]
  },
  {
   "cell_type": "markdown",
   "metadata": {},
   "source": [
    "# X y"
   ]
  },
  {
   "cell_type": "code",
   "execution_count": 38,
   "metadata": {},
   "outputs": [],
   "source": [
    "fts_cols = numeric_cols + onehot_cols"
   ]
  },
  {
   "cell_type": "code",
   "execution_count": 39,
   "metadata": {},
   "outputs": [],
   "source": [
    "#? creating x and y set from the dataset\n",
    "X_train, y_train = df__train[fts_cols].values, df__train['Label'].values\n",
    "X_test, y_test = df__test[fts_cols].values, df__test['Label'].values\n",
    "# X_val, y_val = df__val[fts_cols].values, df__val['Label'].values"
   ]
  },
  {
   "cell_type": "code",
   "execution_count": 40,
   "metadata": {},
   "outputs": [
    {
     "name": "stdout",
     "output_type": "stream",
     "text": [
      "(279418, 32) (279418,)\n"
     ]
    }
   ],
   "source": [
    "#? for binary classification\n",
    "y_train[y_train != 5] = 0\n",
    "y_train[y_train == 5] = 1\n",
    "\n",
    "y_test[y_test != 5] = 0\n",
    "y_test[y_test == 5] = 1\n",
    "\n",
    "# y_val[y_val != 5] = 0\n",
    "# y_val[y_val == 5] = 1\n",
    "\n",
    "print(X_train.shape, y_train.shape)"
   ]
  },
  {
   "cell_type": "markdown",
   "metadata": {},
   "source": [
    "# Save ?"
   ]
  },
  {
   "cell_type": "code",
   "execution_count": 41,
   "metadata": {},
   "outputs": [],
   "source": [
    "np.save(f'data/{af}4-3.tr.X.{pf}.npy', X_train)\n",
    "np.save(f'data/{af}4-3.tr.y.{pf}.npy', y_train)\n",
    "\n",
    "np.save(f'data/{af}4-3.t.X.{pf}.npy', X_test)\n",
    "np.save(f'data/{af}4-3.t.y.{pf}.npy', y_test)\n",
    "\n",
    "# np.save(f'data/{af}4-3.v.X.{pf}.npy', X_val)\n",
    "# np.save(f'data/{af}4-3.v.y.{pf}.npy', y_val)"
   ]
  },
  {
   "cell_type": "code",
   "execution_count": 42,
   "metadata": {},
   "outputs": [
    {
     "data": {
      "text/plain": [
       "285"
      ]
     },
     "execution_count": 42,
     "metadata": {},
     "output_type": "execute_result"
    }
   ],
   "source": [
    "open(f'data/{af}4-3.fts_cols.{pf}.txt', 'w').write('\\n'.join(fts_cols))"
   ]
  },
  {
   "cell_type": "code",
   "execution_count": 46,
   "metadata": {},
   "outputs": [],
   "source": [
    "\"\"\" save the encoder \"\"\"\n",
    "import pickle\n",
    "\n",
    "pickle.dump(ct_train, open(f'data/{af}4-3.ohe.{pf}.pkl', 'wb'))\n",
    "pickle.dump(ms, open(f'data/{af}4-3.mms.{pf}.pkl', 'wb'))"
   ]
  },
  {
   "cell_type": "code",
   "execution_count": 44,
   "metadata": {},
   "outputs": [
    {
     "data": {
      "text/plain": [
       "\"n_flows','Sport_mean','Sport_max','BytesPerPkt_mean','PktsPerSec_mean','BytesPerSec_mean','BytesPerPkt_max','BytesPerSec_max','SrcBytesPerSec_max','P_udp','P_tcp','P_icmp','P_other','S_CON','S_alltcp','S_INT','S_ECR','S_REQ','S_RED','S_ECO','S_URP','S_URH','S_RSP','S_TXD','S_URHPRO','S_URN','S_URO','S_URFIL','S_DCE','S_URF','S_nanvalue','S_other\""
      ]
     },
     "execution_count": 44,
     "metadata": {},
     "output_type": "execute_result"
    }
   ],
   "source": [
    "\"','\".join(fts_cols)"
   ]
  },
  {
   "cell_type": "code",
   "execution_count": 45,
   "metadata": {},
   "outputs": [],
   "source": [
    "#? cleanup\n",
    "del X_train\n",
    "del y_train\n",
    "del df__train\n",
    "\n",
    "del X_test\n",
    "del y_test\n",
    "del df__test\n",
    "\n",
    "# del X_val\n",
    "# del y_val\n",
    "# del df__val"
   ]
  }
 ],
 "metadata": {
  "interpreter": {
   "hash": "ee5cc6fef2d70a7e71ee3826687cbd150f18158e0b1eef11d4f4f92bb920e304"
  },
  "kernelspec": {
   "display_name": "Python 3.9.6 64-bit",
   "language": "python",
   "name": "python3"
  },
  "language_info": {
   "codemirror_mode": {
    "name": "ipython",
    "version": 3
   },
   "file_extension": ".py",
   "mimetype": "text/x-python",
   "name": "python",
   "nbconvert_exporter": "python",
   "pygments_lexer": "ipython3",
   "version": "3.9.6"
  },
  "orig_nbformat": 4
 },
 "nbformat": 4,
 "nbformat_minor": 2
}
