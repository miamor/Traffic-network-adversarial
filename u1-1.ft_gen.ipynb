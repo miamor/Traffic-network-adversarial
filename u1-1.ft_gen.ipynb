{
 "cells": [
  {
   "cell_type": "markdown",
   "metadata": {},
   "source": [
    "# Gen features"
   ]
  },
  {
   "cell_type": "code",
   "execution_count": 1,
   "metadata": {},
   "outputs": [],
   "source": [
    "import pandas as pd\n",
    "import numpy as np\n",
    "import copy\n",
    "\n",
    "import warnings\n",
    "warnings.filterwarnings('ignore')"
   ]
  },
  {
   "cell_type": "markdown",
   "metadata": {},
   "source": [
    "# Read data"
   ]
  },
  {
   "cell_type": "code",
   "execution_count": 2,
   "metadata": {},
   "outputs": [],
   "source": [
    "af = 'u'\n",
    "dt = 't'\n",
    "path = f'./data/{dt}.csv'\n",
    "# path = f'./data/{dt}_sm.csv'\n",
    "df = pd.read_csv(path)"
   ]
  },
  {
   "cell_type": "code",
   "execution_count": 3,
   "metadata": {},
   "outputs": [
    {
     "data": {
      "text/html": [
       "<div>\n",
       "<style scoped>\n",
       "    .dataframe tbody tr th:only-of-type {\n",
       "        vertical-align: middle;\n",
       "    }\n",
       "\n",
       "    .dataframe tbody tr th {\n",
       "        vertical-align: top;\n",
       "    }\n",
       "\n",
       "    .dataframe thead th {\n",
       "        text-align: right;\n",
       "    }\n",
       "</style>\n",
       "<table border=\"1\" class=\"dataframe\">\n",
       "  <thead>\n",
       "    <tr style=\"text-align: right;\">\n",
       "      <th></th>\n",
       "      <th>StreamID</th>\n",
       "      <th>StartTime</th>\n",
       "      <th>Dur</th>\n",
       "      <th>Proto</th>\n",
       "      <th>SrcAddr</th>\n",
       "      <th>Sport</th>\n",
       "      <th>Dir</th>\n",
       "      <th>DstAddr</th>\n",
       "      <th>Dport</th>\n",
       "      <th>State</th>\n",
       "      <th>sTos</th>\n",
       "      <th>dTos</th>\n",
       "      <th>TotPkts</th>\n",
       "      <th>TotBytes</th>\n",
       "      <th>SrcBytes</th>\n",
       "      <th>Label</th>\n",
       "    </tr>\n",
       "  </thead>\n",
       "  <tbody>\n",
       "    <tr>\n",
       "      <th>0</th>\n",
       "      <td>1</td>\n",
       "      <td>2022-07-25 23:29:01.159088</td>\n",
       "      <td>442.169202</td>\n",
       "      <td>tcp</td>\n",
       "      <td>150.35.87.62</td>\n",
       "      <td>49972</td>\n",
       "      <td>&lt;?&gt;</td>\n",
       "      <td>92.236.177.28</td>\n",
       "      <td>443</td>\n",
       "      <td>RPA_FPA</td>\n",
       "      <td>0.0</td>\n",
       "      <td>0.0</td>\n",
       "      <td>435</td>\n",
       "      <td>371513</td>\n",
       "      <td>107279</td>\n",
       "      <td>flow=Background-Established-cmpgw-CVUT</td>\n",
       "    </tr>\n",
       "    <tr>\n",
       "      <th>1</th>\n",
       "      <td>2</td>\n",
       "      <td>2022-07-25 23:29:01.499175</td>\n",
       "      <td>2365.877764</td>\n",
       "      <td>udp</td>\n",
       "      <td>150.35.87.62</td>\n",
       "      <td>54863</td>\n",
       "      <td>&lt;-&gt;</td>\n",
       "      <td>93.35.149.223</td>\n",
       "      <td>7452</td>\n",
       "      <td>CON</td>\n",
       "      <td>0.0</td>\n",
       "      <td>0.0</td>\n",
       "      <td>4</td>\n",
       "      <td>269</td>\n",
       "      <td>146</td>\n",
       "      <td>flow=Background-Established-cmpgw-CVUT</td>\n",
       "    </tr>\n",
       "    <tr>\n",
       "      <th>2</th>\n",
       "      <td>3</td>\n",
       "      <td>2022-07-25 23:29:01.500936</td>\n",
       "      <td>0.201912</td>\n",
       "      <td>tcp</td>\n",
       "      <td>150.35.87.62</td>\n",
       "      <td>49909</td>\n",
       "      <td>&lt;?&gt;</td>\n",
       "      <td>168.196.248.87</td>\n",
       "      <td>80</td>\n",
       "      <td>FA_FA</td>\n",
       "      <td>0.0</td>\n",
       "      <td>0.0</td>\n",
       "      <td>2</td>\n",
       "      <td>196</td>\n",
       "      <td>131</td>\n",
       "      <td>flow=Background-Established-cmpgw-CVUT</td>\n",
       "    </tr>\n",
       "    <tr>\n",
       "      <th>3</th>\n",
       "      <td>4</td>\n",
       "      <td>2022-07-25 23:29:01.502503</td>\n",
       "      <td>0.005431</td>\n",
       "      <td>tcp</td>\n",
       "      <td>150.35.87.62</td>\n",
       "      <td>49906</td>\n",
       "      <td>&lt;?&gt;</td>\n",
       "      <td>198.116.235.78</td>\n",
       "      <td>80</td>\n",
       "      <td>FA_FA</td>\n",
       "      <td>0.0</td>\n",
       "      <td>0.0</td>\n",
       "      <td>3</td>\n",
       "      <td>200</td>\n",
       "      <td>132</td>\n",
       "      <td>flow=Background-Established-cmpgw-CVUT</td>\n",
       "    </tr>\n",
       "    <tr>\n",
       "      <th>4</th>\n",
       "      <td>5</td>\n",
       "      <td>2022-07-25 23:29:01.504320</td>\n",
       "      <td>0.012403</td>\n",
       "      <td>tcp</td>\n",
       "      <td>150.35.87.62</td>\n",
       "      <td>49907</td>\n",
       "      <td>&lt;?&gt;</td>\n",
       "      <td>196.173.143.73</td>\n",
       "      <td>80</td>\n",
       "      <td>FA_FA</td>\n",
       "      <td>0.0</td>\n",
       "      <td>0.0</td>\n",
       "      <td>3</td>\n",
       "      <td>197</td>\n",
       "      <td>131</td>\n",
       "      <td>flow=Background-Established-cmpgw-CVUT</td>\n",
       "    </tr>\n",
       "  </tbody>\n",
       "</table>\n",
       "</div>"
      ],
      "text/plain": [
       "   StreamID                   StartTime          Dur Proto       SrcAddr  \\\n",
       "0         1  2022-07-25 23:29:01.159088   442.169202   tcp  150.35.87.62   \n",
       "1         2  2022-07-25 23:29:01.499175  2365.877764   udp  150.35.87.62   \n",
       "2         3  2022-07-25 23:29:01.500936     0.201912   tcp  150.35.87.62   \n",
       "3         4  2022-07-25 23:29:01.502503     0.005431   tcp  150.35.87.62   \n",
       "4         5  2022-07-25 23:29:01.504320     0.012403   tcp  150.35.87.62   \n",
       "\n",
       "   Sport    Dir         DstAddr  Dport    State  sTos  dTos  TotPkts  \\\n",
       "0  49972    <?>   92.236.177.28    443  RPA_FPA   0.0   0.0      435   \n",
       "1  54863    <->   93.35.149.223   7452      CON   0.0   0.0        4   \n",
       "2  49909    <?>  168.196.248.87     80    FA_FA   0.0   0.0        2   \n",
       "3  49906    <?>  198.116.235.78     80    FA_FA   0.0   0.0        3   \n",
       "4  49907    <?>  196.173.143.73     80    FA_FA   0.0   0.0        3   \n",
       "\n",
       "   TotBytes  SrcBytes                                   Label  \n",
       "0    371513    107279  flow=Background-Established-cmpgw-CVUT  \n",
       "1       269       146  flow=Background-Established-cmpgw-CVUT  \n",
       "2       196       131  flow=Background-Established-cmpgw-CVUT  \n",
       "3       200       132  flow=Background-Established-cmpgw-CVUT  \n",
       "4       197       131  flow=Background-Established-cmpgw-CVUT  "
      ]
     },
     "execution_count": 3,
     "metadata": {},
     "output_type": "execute_result"
    }
   ],
   "source": [
    "df.head()"
   ]
  },
  {
   "cell_type": "code",
   "execution_count": 4,
   "metadata": {},
   "outputs": [],
   "source": [
    "# df.loc[(df['sTos'] == 192)]\n",
    "# # df.loc[(df['sTos'] == 192) & (df['Label'].str.contains('Bot'))]\n",
    "# df.loc[(df['sTos'] != 192) & (df['Proto'] == 'igmp')]"
   ]
  },
  {
   "cell_type": "markdown",
   "metadata": {},
   "source": [
    "# Label"
   ]
  },
  {
   "cell_type": "code",
   "execution_count": 5,
   "metadata": {},
   "outputs": [],
   "source": [
    "df['LabelStr'] = df['Label']\n",
    "df['Label'] = 0\n",
    "df.loc[df['LabelStr'].str.contains('To-Backgro'), 'Label'] = 1\n",
    "df.loc[df['LabelStr'].str.contains('From-Backg'), 'Label'] = 2\n",
    "df.loc[df['LabelStr'].str.contains('From-Norma'), 'Label'] = 3\n",
    "df.loc[df['LabelStr'].str.contains('To-Normal-'), 'Label'] = 4\n",
    "df.loc[df['LabelStr'].str.contains('From-Botne'), 'Label'] = 5\n",
    "df.loc[df['LabelStr'].str.contains('Normal-'), 'Label'] = 3"
   ]
  },
  {
   "cell_type": "markdown",
   "metadata": {},
   "source": [
    "# Calculate"
   ]
  },
  {
   "cell_type": "code",
   "execution_count": 6,
   "metadata": {},
   "outputs": [],
   "source": [
    "#? packets per second\n",
    "df['PktsPerSec'] = df['TotPkts']/df['Dur'].replace(0, np.inf)\n",
    "\n",
    "#? bytes (sent both directions) per second\n",
    "df['BytesPerSec'] = df['TotBytes']/df['Dur'].replace(0, np.inf)\n",
    "\n",
    "#? bytes (from src -> dst) per second\n",
    "df['SrcBytesPerSec'] = df['SrcBytes']/df['Dur'].replace(0, np.inf)\n",
    "\n",
    "#? bytes per packet\n",
    "df['BytesPerPkt'] = df['TotBytes']/df['TotPkts'].replace(0, np.inf)\n",
    "\n",
    "\n",
    "#? dst bytes\n",
    "df['DstBytes'] = df['TotBytes'] - df['SrcBytes']\n",
    "#? bytes (from dst -> src) per second\n",
    "df['DstBytesPerSec'] = df['DstBytes']/(df['Dur'].replace(0, np.inf))\n",
    "#? if dst bytes < 0\n",
    "df.loc[df['DstBytes'] < 0, 'DstBytes'] = 0\n",
    "df.loc[df['DstBytesPerSec'] < 0, 'DstBytesPerSec'] = 0"
   ]
  },
  {
   "cell_type": "markdown",
   "metadata": {},
   "source": [
    "# State"
   ]
  },
  {
   "cell_type": "code",
   "execution_count": 7,
   "metadata": {},
   "outputs": [],
   "source": [
    "\"\"\" some records have NaN state value \"\"\"\n",
    "df.loc[df['State'].isnull(), 'State'] = 'nanvalue'"
   ]
  },
  {
   "cell_type": "code",
   "execution_count": 8,
   "metadata": {},
   "outputs": [],
   "source": [
    "\"\"\" some state is just to indicate the tcp states, replace these states with alltcp and use Flag_ fields to indicate triggered flags \"\"\"\n",
    "df['State_orig'] = df['State']\n",
    "df.loc[(df['State_orig'].str.len() > 2) & (df['State_orig'].str.contains('_')), 'State'] = 'alltcp'"
   ]
  },
  {
   "cell_type": "markdown",
   "metadata": {},
   "source": [
    "# sTos & dTos"
   ]
  },
  {
   "cell_type": "code",
   "execution_count": 9,
   "metadata": {},
   "outputs": [],
   "source": [
    "\"\"\" Some sTos and dTos has nan value \"\"\"\n",
    "df.loc[df['sTos'].isnull(), 'sTos'] = -1\n",
    "df.loc[df['dTos'].isnull(), 'dTos'] = -1\n",
    "\n",
    "df = df.drop(df[df['sTos'] == 192.0].index)\n",
    "df = df.drop(df[df['dTos'] == 192.0].index)"
   ]
  },
  {
   "cell_type": "code",
   "execution_count": 10,
   "metadata": {},
   "outputs": [
    {
     "name": "stdout",
     "output_type": "stream",
     "text": [
      " 0.0    936649\n",
      "-1.0      1155\n",
      " 2.0         3\n",
      " 3.0         2\n",
      "Name: sTos, dtype: int64\n",
      "\n",
      " 0.0    885711\n",
      "-1.0     52070\n",
      " 2.0        15\n",
      " 3.0        11\n",
      " 1.0         2\n",
      "Name: dTos, dtype: int64\n",
      "\n"
     ]
    }
   ],
   "source": [
    "print(df['sTos'].value_counts())\n",
    "print()\n",
    "print(df['dTos'].value_counts())\n",
    "print()\n",
    "# df.loc[df['sTos'] == 192]"
   ]
  },
  {
   "cell_type": "markdown",
   "metadata": {},
   "source": [
    "# Save the processed data"
   ]
  },
  {
   "cell_type": "code",
   "execution_count": 11,
   "metadata": {},
   "outputs": [],
   "source": [
    "df.to_csv(path.replace('.csv', f'.{af}1.csv'))"
   ]
  },
  {
   "cell_type": "code",
   "execution_count": 12,
   "metadata": {},
   "outputs": [],
   "source": [
    "del df"
   ]
  },
  {
   "cell_type": "code",
   "execution_count": null,
   "metadata": {},
   "outputs": [],
   "source": []
  }
 ],
 "metadata": {
  "interpreter": {
   "hash": "ee5cc6fef2d70a7e71ee3826687cbd150f18158e0b1eef11d4f4f92bb920e304"
  },
  "kernelspec": {
   "display_name": "Python 3.9.6 64-bit",
   "language": "python",
   "name": "python3"
  },
  "language_info": {
   "codemirror_mode": {
    "name": "ipython",
    "version": 3
   },
   "file_extension": ".py",
   "mimetype": "text/x-python",
   "name": "python",
   "nbconvert_exporter": "python",
   "pygments_lexer": "ipython3",
   "version": "3.9.6"
  },
  "orig_nbformat": 4
 },
 "nbformat": 4,
 "nbformat_minor": 2
}
