{
 "cells": [
  {
   "cell_type": "code",
   "execution_count": 1,
   "metadata": {},
   "outputs": [],
   "source": [
    "# # Load the Drive helper and mount\n",
    "# from google.colab import drive\n",
    "\n",
    "# # This will prompt for authorization.\n",
    "# drive.mount('/content/drive')\n",
    "\n",
    "# %cd '/content/drive/MyDrive/Colab Notebooks/C73_A2_1/data'\n",
    "# !ls\n",
    "\n",
    "# data_dir = '/content/drive/MyDrive/Colab Notebooks/C73_A2_1/data'\n",
    "# result_dir = '/content/drive/MyDrive/Colab Notebooks/C73_A2_1/result'"
   ]
  },
  {
   "cell_type": "code",
   "execution_count": 2,
   "metadata": {},
   "outputs": [],
   "source": [
    "data_dir = 'data'\n",
    "result_dir = 'result'"
   ]
  },
  {
   "cell_type": "markdown",
   "metadata": {},
   "source": [
    "# Import"
   ]
  },
  {
   "cell_type": "code",
   "execution_count": 3,
   "metadata": {},
   "outputs": [],
   "source": [
    "import pandas as pd\n",
    "import numpy as np\n",
    "import matplotlib.pyplot as plt\n",
    "import copy\n",
    "\n",
    "import warnings\n",
    "warnings.filterwarnings(\"ignore\")"
   ]
  },
  {
   "cell_type": "markdown",
   "metadata": {},
   "source": [
    "# Read data"
   ]
  },
  {
   "cell_type": "code",
   "execution_count": 4,
   "metadata": {},
   "outputs": [],
   "source": [
    "af = 'u'\n",
    "pf = '7200-3600.__2__' #'10800-10800' #60 #30 #600 # 60  # seconds\n",
    "\n",
    "Xtrain = np.load(f'{data_dir}/{af}4-3.tr.X.{pf}.npy', allow_pickle=True)\n",
    "ytrain = np.load(f'{data_dir}/{af}4-3.tr.y.{pf}.npy', allow_pickle=True)\n",
    "\n",
    "Xtest = np.load(f'{data_dir}/{af}4-3.t.X.{pf}.npy', allow_pickle=True)\n",
    "ytest = np.load(f'{data_dir}/{af}4-3.t.y.{pf}.npy', allow_pickle=True)\n",
    "\n",
    "# Xval = np.load(f'{data_dir}/{af}4-3.v.X.{pf}.npy', allow_pickle=True)\n",
    "# yval = np.load(f'{data_dir}/{af}4-3.v.y.{pf}.npy', allow_pickle=True)\n",
    "\n",
    "#? features names\n",
    "fts_names = [line.strip() for line in open(f'{data_dir}/{af}4-3.fts_cols.{pf}.txt').readlines()]"
   ]
  },
  {
   "cell_type": "code",
   "execution_count": 5,
   "metadata": {},
   "outputs": [],
   "source": [
    "# #? merge val with train\n",
    "# Xtrain = np.concatenate((Xtrain, Xval))\n",
    "# ytrain = np.concatenate((ytrain, yval))"
   ]
  },
  {
   "cell_type": "markdown",
   "metadata": {},
   "source": [
    "# Features"
   ]
  },
  {
   "cell_type": "markdown",
   "metadata": {},
   "source": [
    "### Use all features ?"
   ]
  },
  {
   "cell_type": "code",
   "execution_count": 6,
   "metadata": {},
   "outputs": [],
   "source": [
    "# for i in range(0, len(fts_names)):\n",
    "#     print(i, fts_names[i])"
   ]
  },
  {
   "cell_type": "code",
   "execution_count": 7,
   "metadata": {},
   "outputs": [],
   "source": [
    "#? use all features\n",
    "Xtrain = Xtrain[:,:]\n",
    "Xtest = Xtest[:,:]"
   ]
  },
  {
   "cell_type": "code",
   "execution_count": 8,
   "metadata": {},
   "outputs": [
    {
     "name": "stdout",
     "output_type": "stream",
     "text": [
      "(279418, 32)\n",
      "(279418,)\n"
     ]
    }
   ],
   "source": [
    "print(Xtrain.shape)\n",
    "print(ytrain.shape)"
   ]
  },
  {
   "cell_type": "code",
   "execution_count": 9,
   "metadata": {},
   "outputs": [
    {
     "data": {
      "text/plain": [
       "(array([  5948,   5949,   5950,   5951,   5952,   5953,   5954,   5955,\n",
       "          5956,   5957,   5958,   5959,   5960,   5961,   8773,   8774,\n",
       "          8775,   8776,   8777,   8778,   8779,   8780,   8781,   8782,\n",
       "          8783,   8784,   8785,   8786, 134552, 134553, 134554, 134555,\n",
       "        134556, 146613, 146614, 146615, 146616, 146617, 146618, 157955,\n",
       "        157956, 168797, 168798, 197323, 206629, 206630, 206631, 215831,\n",
       "        215832, 215833, 215834, 215835, 215836, 215837, 215838, 224947,\n",
       "        224948, 224949, 224950, 224951, 224952, 224953, 224954, 224955,\n",
       "        234045, 234046, 234047, 258834, 274274], dtype=int64),)"
      ]
     },
     "execution_count": 9,
     "metadata": {},
     "output_type": "execute_result"
    }
   ],
   "source": [
    "np.where(ytrain == 1)"
   ]
  },
  {
   "cell_type": "markdown",
   "metadata": {},
   "source": [
    "### Features selection"
   ]
  },
  {
   "cell_type": "code",
   "execution_count": 10,
   "metadata": {},
   "outputs": [],
   "source": [
    "# from sklearn.feature_selection import SelectKBest\n",
    "# from sklearn.feature_selection import f_classif\n",
    "\n",
    "# #? find best features\n",
    "# ft_model = SelectKBest(score_func=f_classif, k='all')\n",
    "# fit = ft_model.fit(Xtest, ytest)\n",
    "\n",
    "# df_fts_scores = pd.DataFrame(fit.scores_)\n",
    "# df_fts_names = pd.DataFrame(fts_names)\n",
    "\n",
    "# df_fts = pd.concat([df_fts_names, df_fts_scores], axis=1)\n",
    "# df_fts.columns = ['Ft', 'Score']\n",
    "# print(df_fts.nlargest(15, 'Score'))"
   ]
  },
  {
   "cell_type": "code",
   "execution_count": 11,
   "metadata": {},
   "outputs": [],
   "source": [
    "# from sklearn.feature_selection import SelectKBest\n",
    "# from sklearn.feature_selection import f_classif\n",
    "\n",
    "# #? find best features\n",
    "# ft_model = SelectKBest(score_func=f_classif, k='all')\n",
    "# fit = ft_model.fit(Xtrain, ytrain)\n",
    "\n",
    "# df_fts_scores = pd.DataFrame(fit.scores_)\n",
    "# df_fts_names = pd.DataFrame(fts_names)\n",
    "\n",
    "# df_fts = pd.concat([df_fts_names, df_fts_scores], axis=1)\n",
    "# df_fts.columns = ['Ft', 'Score']\n",
    "# print(df_fts.nlargest(15, 'Score'))"
   ]
  },
  {
   "cell_type": "markdown",
   "metadata": {},
   "source": [
    "#### Choose features"
   ]
  },
  {
   "cell_type": "code",
   "execution_count": 12,
   "metadata": {},
   "outputs": [
    {
     "name": "stdout",
     "output_type": "stream",
     "text": [
      "[3, 4, 5, 2, 1, 0, 6, 7, 8, 10, 9, 12, 13, 14, 15, 18, 31, 19]\n",
      "(279418, 18)\n"
     ]
    }
   ],
   "source": [
    "# #? select top features ?\n",
    "selected_fts = [\n",
    "    'BytesPerPkt_mean',\n",
    "    'PktsPerSec_mean','BytesPerSec_mean',#'SrcBytesPerSec_mean',#'Dport_RU',\n",
    "    'Sport_max','Sport_mean',\n",
    "    'n_flows',\n",
    "    'BytesPerPkt_max','BytesPerSec_max','SrcBytesPerSec_max',\n",
    "    'P_tcp','P_udp','P_other',#'P_icmp',\n",
    "\n",
    "    # 'S_CON', 'S_alltcp', 'S_INT', 'S_ECR', 'S_REQ', 'S_RED', 'S_other', 'S_ECO', #'S_URP', 'S_URH', 'S_RSP', \n",
    "    'S_CON', 'S_alltcp', 'S_INT', 'S_RED', 'S_other', 'S_ECO', \n",
    "]\n",
    "\n",
    "#? index of top features\n",
    "ft_idx = [fts_names.index(ft) for ft in selected_fts]\n",
    "print(ft_idx)\n",
    "\n",
    "Xtrain = Xtrain[:,ft_idx]\n",
    "Xtest = Xtest[:,ft_idx]\n",
    "print(Xtrain.shape)"
   ]
  },
  {
   "cell_type": "markdown",
   "metadata": {},
   "source": [
    "# Prepare data for train"
   ]
  },
  {
   "cell_type": "code",
   "execution_count": 13,
   "metadata": {},
   "outputs": [
    {
     "name": "stdout",
     "output_type": "stream",
     "text": [
      "(279418, 18) (279418,)\n",
      "(18226, 18) (18226,)\n"
     ]
    }
   ],
   "source": [
    "X_train = Xtrain[:]\n",
    "y_train = ytrain[:]\n",
    "\n",
    "X_test = Xtest[:]\n",
    "y_test = ytest[:]\n",
    "\n",
    "print(X_train.shape, y_train.shape)\n",
    "print(X_test.shape, y_test.shape)"
   ]
  },
  {
   "cell_type": "code",
   "execution_count": 14,
   "metadata": {},
   "outputs": [],
   "source": [
    "#? prevent exceed memory\n",
    "del Xtrain\n",
    "del Xtest\n",
    "# del Xval"
   ]
  },
  {
   "cell_type": "markdown",
   "metadata": {},
   "source": [
    "# Now train"
   ]
  },
  {
   "cell_type": "code",
   "execution_count": 15,
   "metadata": {},
   "outputs": [],
   "source": [
    "from sklearn.metrics import classification_report, confusion_matrix, PrecisionRecallDisplay, f1_score, roc_auc_score, roc_curve, auc\n",
    "\n",
    "def evaluate(y_true, y_pred):\n",
    "    cm = confusion_matrix(y_true, y_pred)\n",
    "    print(cm)\n",
    "    print(classification_report(y_true, y_pred, digits=4))\n",
    "    roc_auc = roc_auc_score(y_true, y_pred)\n",
    "    print(roc_auc)\n",
    "\n",
    "    # display = PrecisionRecallDisplay.from_predictions(y_true, y_pred)\n",
    "    # _ = display.ax_.set_title(\"2-class Precision-Recall curve\")\n",
    "\n",
    "    return roc_auc"
   ]
  },
  {
   "cell_type": "code",
   "execution_count": 16,
   "metadata": {},
   "outputs": [],
   "source": [
    "\"\"\" prepare data \"\"\"\n",
    "from sklearn.model_selection import train_test_split\n",
    "from sklearn.utils import resample\n",
    "\n",
    "nb_prediction = 1\n",
    "np.random.seed(seed=123456)\n",
    "tab_seed = np.random.randint(0, 1000000000, nb_prediction)\n",
    "\n",
    "# X_train_new, y_train_new = resample(X_train, y_train, n_samples=X_train.shape[0]*10, random_state=tab_seed[0])\n",
    "\n",
    "X_train_split, X_test_split, y_train_split, y_test_split = train_test_split(X_train, y_train, test_size=0.2, random_state=tab_seed[0])\n",
    "X_train_new, y_train_new = resample(X_train_split, y_train_split, n_samples=X_train.shape[0]*10, random_state=tab_seed[0])"
   ]
  },
  {
   "cell_type": "code",
   "execution_count": 17,
   "metadata": {},
   "outputs": [
    {
     "data": {
      "text/plain": [
       "array([5.00128156e-01, 1.95124302e+03])"
      ]
     },
     "execution_count": 17,
     "metadata": {},
     "output_type": "execute_result"
    }
   ],
   "source": [
    "\"\"\" calculate class weighting \"\"\"\n",
    "from sklearn.utils.class_weight import compute_class_weight\n",
    "\n",
    "weighting = compute_class_weight(class_weight='balanced', classes=[0,1], y=y_train_new)\n",
    "weighting"
   ]
  },
  {
   "cell_type": "code",
   "execution_count": 18,
   "metadata": {},
   "outputs": [
    {
     "data": {
      "text/html": [
       "<style>#sk-container-id-1 {color: black;background-color: white;}#sk-container-id-1 pre{padding: 0;}#sk-container-id-1 div.sk-toggleable {background-color: white;}#sk-container-id-1 label.sk-toggleable__label {cursor: pointer;display: block;width: 100%;margin-bottom: 0;padding: 0.3em;box-sizing: border-box;text-align: center;}#sk-container-id-1 label.sk-toggleable__label-arrow:before {content: \"▸\";float: left;margin-right: 0.25em;color: #696969;}#sk-container-id-1 label.sk-toggleable__label-arrow:hover:before {color: black;}#sk-container-id-1 div.sk-estimator:hover label.sk-toggleable__label-arrow:before {color: black;}#sk-container-id-1 div.sk-toggleable__content {max-height: 0;max-width: 0;overflow: hidden;text-align: left;background-color: #f0f8ff;}#sk-container-id-1 div.sk-toggleable__content pre {margin: 0.2em;color: black;border-radius: 0.25em;background-color: #f0f8ff;}#sk-container-id-1 input.sk-toggleable__control:checked~div.sk-toggleable__content {max-height: 200px;max-width: 100%;overflow: auto;}#sk-container-id-1 input.sk-toggleable__control:checked~label.sk-toggleable__label-arrow:before {content: \"▾\";}#sk-container-id-1 div.sk-estimator input.sk-toggleable__control:checked~label.sk-toggleable__label {background-color: #d4ebff;}#sk-container-id-1 div.sk-label input.sk-toggleable__control:checked~label.sk-toggleable__label {background-color: #d4ebff;}#sk-container-id-1 input.sk-hidden--visually {border: 0;clip: rect(1px 1px 1px 1px);clip: rect(1px, 1px, 1px, 1px);height: 1px;margin: -1px;overflow: hidden;padding: 0;position: absolute;width: 1px;}#sk-container-id-1 div.sk-estimator {font-family: monospace;background-color: #f0f8ff;border: 1px dotted black;border-radius: 0.25em;box-sizing: border-box;margin-bottom: 0.5em;}#sk-container-id-1 div.sk-estimator:hover {background-color: #d4ebff;}#sk-container-id-1 div.sk-parallel-item::after {content: \"\";width: 100%;border-bottom: 1px solid gray;flex-grow: 1;}#sk-container-id-1 div.sk-label:hover label.sk-toggleable__label {background-color: #d4ebff;}#sk-container-id-1 div.sk-serial::before {content: \"\";position: absolute;border-left: 1px solid gray;box-sizing: border-box;top: 0;bottom: 0;left: 50%;z-index: 0;}#sk-container-id-1 div.sk-serial {display: flex;flex-direction: column;align-items: center;background-color: white;padding-right: 0.2em;padding-left: 0.2em;position: relative;}#sk-container-id-1 div.sk-item {position: relative;z-index: 1;}#sk-container-id-1 div.sk-parallel {display: flex;align-items: stretch;justify-content: center;background-color: white;position: relative;}#sk-container-id-1 div.sk-item::before, #sk-container-id-1 div.sk-parallel-item::before {content: \"\";position: absolute;border-left: 1px solid gray;box-sizing: border-box;top: 0;bottom: 0;left: 50%;z-index: -1;}#sk-container-id-1 div.sk-parallel-item {display: flex;flex-direction: column;z-index: 1;position: relative;background-color: white;}#sk-container-id-1 div.sk-parallel-item:first-child::after {align-self: flex-end;width: 50%;}#sk-container-id-1 div.sk-parallel-item:last-child::after {align-self: flex-start;width: 50%;}#sk-container-id-1 div.sk-parallel-item:only-child::after {width: 0;}#sk-container-id-1 div.sk-dashed-wrapped {border: 1px dashed gray;margin: 0 0.4em 0.5em 0.4em;box-sizing: border-box;padding-bottom: 0.4em;background-color: white;}#sk-container-id-1 div.sk-label label {font-family: monospace;font-weight: bold;display: inline-block;line-height: 1.2em;}#sk-container-id-1 div.sk-label-container {text-align: center;}#sk-container-id-1 div.sk-container {/* jupyter's `normalize.less` sets `[hidden] { display: none; }` but bootstrap.min.css set `[hidden] { display: none !important; }` so we also need the `!important` here to be able to override the default hidden behavior on the sphinx rendered scikit-learn.org. See: https://github.com/scikit-learn/scikit-learn/issues/21755 */display: inline-block !important;position: relative;}#sk-container-id-1 div.sk-text-repr-fallback {display: none;}</style><div id=\"sk-container-id-1\" class=\"sk-top-container\"><div class=\"sk-text-repr-fallback\"><pre>LogisticRegression(class_weight=&#x27;balanced&#x27;, max_iter=2000, penalty=&#x27;none&#x27;,\n",
       "                   random_state=545331265)</pre><b>In a Jupyter environment, please rerun this cell to show the HTML representation or trust the notebook. <br />On GitHub, the HTML representation is unable to render, please try loading this page with nbviewer.org.</b></div><div class=\"sk-container\" hidden><div class=\"sk-item\"><div class=\"sk-estimator sk-toggleable\"><input class=\"sk-toggleable__control sk-hidden--visually\" id=\"sk-estimator-id-1\" type=\"checkbox\" checked><label for=\"sk-estimator-id-1\" class=\"sk-toggleable__label sk-toggleable__label-arrow\">LogisticRegression</label><div class=\"sk-toggleable__content\"><pre>LogisticRegression(class_weight=&#x27;balanced&#x27;, max_iter=2000, penalty=&#x27;none&#x27;,\n",
       "                   random_state=545331265)</pre></div></div></div></div></div>"
      ],
      "text/plain": [
       "LogisticRegression(class_weight='balanced', max_iter=2000, penalty='none',\n",
       "                   random_state=545331265)"
      ]
     },
     "execution_count": 18,
     "metadata": {},
     "output_type": "execute_result"
    }
   ],
   "source": [
    "from sklearn.linear_model import LogisticRegression\n",
    "\n",
    "\"\"\" train \"\"\"\n",
    "# normal_weight = 0.024 #0.044\n",
    "# c = 650 #550\n",
    "# model = LogisticRegression(penalty='l2', C=c, random_state=tab_seed[0], multi_class='auto', solver='lbfgs', class_weight={0:normal_weight, 1:1-normal_weight}, max_iter=1000, verbose=0)\n",
    "model = LogisticRegression(penalty='none', random_state=tab_seed[0], solver='lbfgs', class_weight='balanced', max_iter=2000, verbose=0)\n",
    "# model = LogisticRegression(penalty='none', C=c, random_state=tab_seed[0], solver='lbfgs', class_weight='balanced', max_iter=9000, verbose=0)\n",
    "model.fit(X_train_new, y_train_new)"
   ]
  },
  {
   "cell_type": "markdown",
   "metadata": {},
   "source": [
    "# Evaluate"
   ]
  },
  {
   "cell_type": "code",
   "execution_count": 19,
   "metadata": {},
   "outputs": [
    {
     "name": "stdout",
     "output_type": "stream",
     "text": [
      "[[2533435  260029]\n",
      " [      0     716]]\n",
      "              precision    recall  f1-score   support\n",
      "\n",
      "           0     1.0000    0.9069    0.9512   2793464\n",
      "           1     0.0027    1.0000    0.0055       716\n",
      "\n",
      "    accuracy                         0.9069   2794180\n",
      "   macro avg     0.5014    0.9535    0.4783   2794180\n",
      "weighted avg     0.9997    0.9069    0.9509   2794180\n",
      "\n",
      "0.9534576067563427\n"
     ]
    }
   ],
   "source": [
    "\"\"\" predict and evaluate on train_split \"\"\"\n",
    "y_pred_train_new = model.predict(X_train_new)\n",
    "_ = evaluate(y_train_new, y_pred_train_new)"
   ]
  },
  {
   "cell_type": "code",
   "execution_count": 20,
   "metadata": {},
   "outputs": [
    {
     "name": "stdout",
     "output_type": "stream",
     "text": [
      "[[50606  5263]\n",
      " [    0    15]]\n",
      "              precision    recall  f1-score   support\n",
      "\n",
      "           0     1.0000    0.9058    0.9506     55869\n",
      "           1     0.0028    1.0000    0.0057        15\n",
      "\n",
      "    accuracy                         0.9058     55884\n",
      "   macro avg     0.5014    0.9529    0.4781     55884\n",
      "weighted avg     0.9997    0.9058    0.9503     55884\n",
      "\n",
      "0.9528987452791351\n"
     ]
    }
   ],
   "source": [
    "\"\"\" predict and evaluate on test_split \"\"\"\n",
    "y_pred_test_split = model.predict(X_test_split)\n",
    "_ = evaluate(y_test_split, y_pred_test_split)"
   ]
  },
  {
   "cell_type": "code",
   "execution_count": 21,
   "metadata": {},
   "outputs": [
    {
     "name": "stdout",
     "output_type": "stream",
     "text": [
      "[[17219   947]\n",
      " [    0    60]]\n",
      "              precision    recall  f1-score   support\n",
      "\n",
      "           0     1.0000    0.9479    0.9732     18166\n",
      "           1     0.0596    1.0000    0.1125        60\n",
      "\n",
      "    accuracy                         0.9480     18226\n",
      "   macro avg     0.5298    0.9739    0.5429     18226\n",
      "weighted avg     0.9969    0.9480    0.9704     18226\n",
      "\n",
      "0.9739348232962677\n"
     ]
    }
   ],
   "source": [
    "\"\"\" predict and evaluate on test \"\"\"\n",
    "y_pred_test = model.predict(X_test)\n",
    "roc_auc = evaluate(y_test, y_pred_test)"
   ]
  },
  {
   "cell_type": "code",
   "execution_count": null,
   "metadata": {},
   "outputs": [],
   "source": []
  },
  {
   "cell_type": "markdown",
   "metadata": {},
   "source": [
    "# Save predicted output"
   ]
  },
  {
   "cell_type": "code",
   "execution_count": 23,
   "metadata": {},
   "outputs": [
    {
     "data": {
      "text/plain": [
       "190"
      ]
     },
     "execution_count": 23,
     "metadata": {},
     "output_type": "execute_result"
    }
   ],
   "source": [
    "import pickle\n",
    "\n",
    "ra = '{:.2f}'.format(round(roc_auc * 100, 2))\n",
    "\n",
    "#? save model\n",
    "pickle.dump(model, open(f'{result_dir}/{af}4-5.{pf}.model_lr.__{ra}__.pkl','wb'))\n",
    "\n",
    "#? save predicted output for test set\n",
    "np.save(f'{result_dir}/{af}4-5.{pf}.output_lr.__{ra}__.t.y_pred.npy', y_pred_test)\n",
    "\n",
    "#? save data\n",
    "np.save(f'{result_dir}/{af}4-5.{pf}.data_lr.__{ra}__.tr.X.npy', X_train)\n",
    "np.save(f'{result_dir}/{af}4-5.{pf}.data_lr.__{ra}__.tr.y.npy', y_train)\n",
    "np.save(f'{result_dir}/{af}4-5.{pf}.data_lr.__{ra}__.t.X.npy', X_test)\n",
    "np.save(f'{result_dir}/{af}4-5.{pf}.data_lr.__{ra}__.t.y.npy', y_test)\n",
    "\n",
    "# #? save config\n",
    "# open(f'{result_dir}/{af}4-5.{pf}.config_lr.__{ra}__.txt', 'w').write(f'c={c}')\n",
    "\n",
    "#? save features\n",
    "open(f'{result_dir}/{af}4-5.{pf}.fts_lr.__{ra}__.txt', 'w').write('\\n'.join(selected_fts))"
   ]
  },
  {
   "cell_type": "code",
   "execution_count": 24,
   "metadata": {},
   "outputs": [],
   "source": [
    "#? cleanup\n",
    "del X_train\n",
    "del y_train\n",
    "del X_train_new\n",
    "del y_train_new\n",
    "del X_test\n",
    "del y_test\n",
    "del y_pred_test\n",
    "del model"
   ]
  }
 ],
 "metadata": {
  "interpreter": {
   "hash": "ee5cc6fef2d70a7e71ee3826687cbd150f18158e0b1eef11d4f4f92bb920e304"
  },
  "kernelspec": {
   "display_name": "Python 3.9.6 64-bit",
   "language": "python",
   "name": "python3"
  },
  "language_info": {
   "codemirror_mode": {
    "name": "ipython",
    "version": 3
   },
   "file_extension": ".py",
   "mimetype": "text/x-python",
   "name": "python",
   "nbconvert_exporter": "python",
   "pygments_lexer": "ipython3",
   "version": "3.9.6"
  },
  "orig_nbformat": 4
 },
 "nbformat": 4,
 "nbformat_minor": 2
}
