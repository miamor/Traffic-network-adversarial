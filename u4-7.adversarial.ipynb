{
 "cells": [
  {
   "cell_type": "code",
   "execution_count": 1,
   "metadata": {},
   "outputs": [],
   "source": [
    "# # Load the Drive helper and mount\n",
    "# from google.colab import drive\n",
    "\n",
    "# # This will prompt for authorization.\n",
    "# drive.mount('/content/drive')\n",
    "\n",
    "# %cd '/content/drive/MyDrive/Colab Notebooks/C73_A2_1/data'\n",
    "# !ls\n",
    "\n",
    "# data_dir = '/content/drive/MyDrive/Colab Notebooks/C73_A2_1/data'\n",
    "# result_dir = '/content/drive/MyDrive/Colab Notebooks/C73_A2_1/result'"
   ]
  },
  {
   "cell_type": "code",
   "execution_count": 2,
   "metadata": {},
   "outputs": [],
   "source": [
    "data_dir = 'data'\n",
    "result_dir = 'result'"
   ]
  },
  {
   "cell_type": "markdown",
   "metadata": {},
   "source": [
    "# Import"
   ]
  },
  {
   "cell_type": "code",
   "execution_count": 3,
   "metadata": {},
   "outputs": [],
   "source": [
    "import numpy as np\n",
    "import pandas as pd\n",
    "import pickle\n",
    "import copy\n",
    "from IPython.display import display\n",
    "\n",
    "import warnings\n",
    "warnings.filterwarnings(\"ignore\")"
   ]
  },
  {
   "cell_type": "markdown",
   "metadata": {},
   "source": [
    "# Read data"
   ]
  },
  {
   "cell_type": "code",
   "execution_count": 4,
   "metadata": {},
   "outputs": [],
   "source": [
    "\"\"\" Load original data (aggregated and unaggregated) \"\"\"\n",
    "af = 'u'\n",
    "\n",
    "pf1 = '7200-3600'\n",
    "pf = f'{pf1}.__2__'\n",
    "ra = '__97.39__'\n",
    "\n",
    "df = pd.read_csv(f'{data_dir}/t.{af}4.{pf1}.csv', index_col=[0]).reset_index().drop(columns=['index'])\n",
    "dfo = pd.read_csv(f'{data_dir}/t.{af}1.csv', index_col=[0])\n",
    "# dfo.head()"
   ]
  },
  {
   "cell_type": "code",
   "execution_count": 5,
   "metadata": {},
   "outputs": [],
   "source": [
    "\"\"\" Load model \"\"\"\n",
    "model = pickle.load(open(f'{result_dir}/{af}4-5.{pf}.model_lr.{ra}.pkl', 'rb'))\n",
    "\n",
    "\"\"\" Load preprocessed data used for feeding the model \"\"\"\n",
    "X_test = np.load(f'{result_dir}/{af}4-5.{pf}.data_lr.{ra}.t.X.npy')\n",
    "y_test = np.load(f'{result_dir}/{af}4-5.{pf}.data_lr.{ra}.t.y.npy')\n",
    "\n",
    "\"\"\" Load predicted output for test set \"\"\"\n",
    "y_pred = np.load(f'{result_dir}/{af}4-5.{pf}.output_lr.{ra}.t.y_pred.npy')\n",
    "\n",
    "\"\"\" Load used features \"\"\"\n",
    "fts_names = [line.strip() for line in open(f'{result_dir}/{af}4-5.{pf}.fts_lr.{ra}.txt').readlines()]"
   ]
  },
  {
   "cell_type": "markdown",
   "metadata": {},
   "source": [
    "# Choose samples"
   ]
  },
  {
   "cell_type": "code",
   "execution_count": 6,
   "metadata": {},
   "outputs": [],
   "source": [
    "selected_Conv = '41.232.73.23 -> 150.35.87.168'\n",
    "df_selecteds = df.loc[df['Conversation'] == selected_Conv]"
   ]
  },
  {
   "cell_type": "code",
   "execution_count": 7,
   "metadata": {},
   "outputs": [],
   "source": [
    "\"\"\" chosen records \"\"\"\n",
    "selected_idx_all = np.where(y_test == 1)[0]"
   ]
  },
  {
   "cell_type": "code",
   "execution_count": null,
   "metadata": {},
   "outputs": [],
   "source": []
  },
  {
   "cell_type": "markdown",
   "metadata": {},
   "source": [
    "# Test pertubing"
   ]
  },
  {
   "cell_type": "markdown",
   "metadata": {},
   "source": [
    "### Chose sample"
   ]
  },
  {
   "cell_type": "code",
   "execution_count": 8,
   "metadata": {},
   "outputs": [
    {
     "data": {
      "text/plain": [
       "array([1], dtype=int64)"
      ]
     },
     "execution_count": 8,
     "metadata": {},
     "output_type": "execute_result"
    }
   ],
   "source": [
    "\"\"\" chosen record \"\"\"\n",
    "selected_idx = selected_idx_all[0:1] #? choose the first record\n",
    "X_chosen = X_test[selected_idx,:]\n",
    "y_chosen = y_test[selected_idx]\n",
    "\n",
    "\"\"\" test model with original sample \"\"\"\n",
    "y_chosen_pred = model.predict(X_chosen)\n",
    "y_chosen_pred"
   ]
  },
  {
   "cell_type": "code",
   "execution_count": 9,
   "metadata": {},
   "outputs": [
    {
     "data": {
      "text/plain": [
       "array([[5.29152304e-02, 8.45864081e-08, 1.80145862e-08, 1.01759312e-01,\n",
       "        1.01746382e-01, 0.00000000e+00, 5.64817162e-02, 1.86306400e-08,\n",
       "        8.95980765e-09, 1.00000000e+00, 0.00000000e+00, 0.00000000e+00,\n",
       "        0.00000000e+00, 1.00000000e+00, 0.00000000e+00, 0.00000000e+00,\n",
       "        0.00000000e+00, 0.00000000e+00]])"
      ]
     },
     "execution_count": 9,
     "metadata": {},
     "output_type": "execute_result"
    }
   ],
   "source": [
    "X_chosen"
   ]
  },
  {
   "cell_type": "markdown",
   "metadata": {},
   "source": [
    "### Generate adversarial sample"
   ]
  },
  {
   "cell_type": "code",
   "execution_count": 10,
   "metadata": {},
   "outputs": [
    {
     "name": "stdout",
     "output_type": "stream",
     "text": [
      "[0.83274558]\n",
      "[[-0.16725442]]\n",
      "(1, 1)\n"
     ]
    }
   ],
   "source": [
    "\"\"\" delta: gradient of cost with respect to weight \"\"\"\n",
    "y_chosen_score = model.predict_proba(X_chosen)[:,1]\n",
    "print(y_chosen_score)\n",
    "\n",
    "delta = y_chosen_score.T[[0]].T - y_chosen.reshape(X_chosen.shape[0], 1)\n",
    "print(delta)\n",
    "print(delta.shape)"
   ]
  },
  {
   "cell_type": "code",
   "execution_count": 11,
   "metadata": {},
   "outputs": [
    {
     "name": "stdout",
     "output_type": "stream",
     "text": [
      "[[-1.  1.  1.  1. -1.  1.  1.  1.  1. -1.  1.  1.  1. -1. -1.  1.  0.  1.]]\n"
     ]
    }
   ],
   "source": [
    "\"\"\" \n",
    "get direction matrix\n",
    "gradient of cost with respect to X = gradient of cost with respect to wight * gradient of weight with respect to X\n",
    "gradient of weight with respect to X is the model.coef_\n",
    "the magnitude of the gradient is not important here, only the direction is necessary.\n",
    "\"\"\"\n",
    "direction = np.sign(np.matmul(delta, model.coef_))\n",
    "print(direction)"
   ]
  },
  {
   "cell_type": "code",
   "execution_count": 12,
   "metadata": {},
   "outputs": [
    {
     "name": "stdout",
     "output_type": "stream",
     "text": [
      "[[ 5.28952304e-02  2.00845864e-05  2.00180146e-05  1.01779312e-01\n",
      "   1.01726382e-01  2.00000000e-05  5.65017162e-02  2.00186306e-05\n",
      "   2.00089598e-05  9.99980000e-01  2.00000000e-05  2.00000000e-05\n",
      "   2.00000000e-05  9.99980000e-01 -2.00000000e-05  2.00000000e-05\n",
      "   0.00000000e+00  2.00000000e-05]]\n"
     ]
    }
   ],
   "source": [
    "\"\"\" compute adversarial samples using the formula \"\"\"\n",
    "epsilon = 0.00002\n",
    "X_chosen_pertubed = X_chosen + epsilon * direction\n",
    "print(X_chosen_pertubed)"
   ]
  },
  {
   "cell_type": "code",
   "execution_count": 13,
   "metadata": {},
   "outputs": [
    {
     "data": {
      "text/plain": [
       "array([1], dtype=int64)"
      ]
     },
     "execution_count": 13,
     "metadata": {},
     "output_type": "execute_result"
    }
   ],
   "source": [
    "\"\"\" test the model with pertubed sample \"\"\"\n",
    "model.predict(X_chosen_pertubed)"
   ]
  },
  {
   "cell_type": "markdown",
   "metadata": {},
   "source": [
    "The model classified the pertubed sample as normal with very small epsilon"
   ]
  },
  {
   "cell_type": "markdown",
   "metadata": {},
   "source": [
    "# Check epsilon"
   ]
  },
  {
   "cell_type": "code",
   "execution_count": 14,
   "metadata": {},
   "outputs": [],
   "source": [
    "def gen_adv_samples(X, Y, epsilon=0.005):\n",
    "    Y_score = model.predict_proba(X)[:,1]\n",
    "    delta = Y_score.T[[0]].T - Y.reshape(X.shape[0], 1)\n",
    "    \n",
    "    #? compute delta and direction matrix\n",
    "    direction = np.sign(np.matmul(delta, model.coef_))\n",
    "\n",
    "    #? compute adversarial samples\n",
    "    X_perturbed = X + epsilon * direction\n",
    "\n",
    "    return X_perturbed"
   ]
  },
  {
   "cell_type": "code",
   "execution_count": 15,
   "metadata": {},
   "outputs": [],
   "source": [
    "def check_model_on_perturbed_samples(X_pertubed):\n",
    "    y_pertubed = model.predict(X_pertubed)\n",
    "    print(y_pertubed)\n",
    "    misclassified_idx = np.where(y_pertubed == 0)\n",
    "    misclassified_ratio = round(len(misclassified_idx[0])/len(y_pertubed) * 100, 2)\n",
    "    print('Misclassification percentage: {}'.format(misclassified_ratio))\n",
    "    return misclassified_idx"
   ]
  },
  {
   "cell_type": "code",
   "execution_count": 16,
   "metadata": {},
   "outputs": [],
   "source": [
    "\"\"\" gen adversarial samples for all samples \"\"\"\n",
    "selected_idx = selected_idx_all[:] #? 0:10 for 10 samples\n",
    "X_chosen = X_test[selected_idx,:]\n",
    "y_chosen = y_test[selected_idx]"
   ]
  },
  {
   "cell_type": "code",
   "execution_count": 17,
   "metadata": {},
   "outputs": [
    {
     "name": "stdout",
     "output_type": "stream",
     "text": [
      "[1 1 1 1 1 1 1 1 1 1 1 1 1 1 1 1 1 1 1 1 1 1 1 1 1 1 1 1 1 1 1 1 1 1 1 1 1\n",
      " 1 1 1 1 1 1 1 1 1 1 1 1 1 1 1 1 1 1 1 1 1 1 1]\n",
      "Misclassification percentage: 0.0\n"
     ]
    },
    {
     "data": {
      "text/plain": [
       "(array([], dtype=int64),)"
      ]
     },
     "execution_count": 17,
     "metadata": {},
     "output_type": "execute_result"
    }
   ],
   "source": [
    "X_chosen_pertubed = gen_adv_samples(X_chosen, y_chosen, epsilon=0.00002)\n",
    "misclassified_idx_1 = check_model_on_perturbed_samples(X_chosen_pertubed)\n",
    "misclassified_idx_1"
   ]
  },
  {
   "cell_type": "code",
   "execution_count": 18,
   "metadata": {},
   "outputs": [
    {
     "name": "stdout",
     "output_type": "stream",
     "text": [
      "[1 1 1 1 1 1 1 1 1 1 1 1 1 1 1 1 1 1 1 1 1 1 1 1 1 1 1 1 1 1 1 1 1 1 1 1 1\n",
      " 1 1 1 1 1 1 1 1 1 1 1 1 1 1 1 1 1 1 1 1 1 1 1]\n",
      "Misclassification percentage: 0.0\n"
     ]
    },
    {
     "data": {
      "text/plain": [
       "(array([], dtype=int64),)"
      ]
     },
     "execution_count": 18,
     "metadata": {},
     "output_type": "execute_result"
    }
   ],
   "source": [
    "X_chosen_pertubed = gen_adv_samples(X_chosen, y_chosen, epsilon=0.000021)\n",
    "misclassified_idx_2 = check_model_on_perturbed_samples(X_chosen_pertubed)\n",
    "misclassified_idx_2"
   ]
  },
  {
   "cell_type": "code",
   "execution_count": 19,
   "metadata": {},
   "outputs": [
    {
     "name": "stdout",
     "output_type": "stream",
     "text": [
      "[0 0 1 1 1 1 1 1 1 1 1 1 1 1 1 1 1 1 1 1 1 1 1 1 1 1 1 1 1 1 1 1 1 1 1 1 1\n",
      " 1 1 1 1 1 1 1 1 1 1 1 1 1 0 1 1 1 1 1 1 1 1 1]\n",
      "Misclassification percentage: 5.0\n"
     ]
    },
    {
     "data": {
      "text/plain": [
       "(array([ 0,  1, 50], dtype=int64),)"
      ]
     },
     "execution_count": 19,
     "metadata": {},
     "output_type": "execute_result"
    }
   ],
   "source": [
    "X_chosen_pertubed = gen_adv_samples(X_chosen, y_chosen, epsilon=0.000022)\n",
    "misclassified_idx_3 = check_model_on_perturbed_samples(X_chosen_pertubed)\n",
    "misclassified_idx_3"
   ]
  },
  {
   "cell_type": "code",
   "execution_count": 20,
   "metadata": {},
   "outputs": [
    {
     "name": "stdout",
     "output_type": "stream",
     "text": [
      "[0 0 1 1 1 1 0 0 1 1 1 1 1 1 1 1 1 1 1 1 1 1 1 1 1 1 1 1 0 1 0 1 1 1 1 1 1\n",
      " 1 1 1 1 1 1 1 1 1 1 1 1 1 0 0 1 1 0 0 0 1 1 1]\n",
      "Misclassification percentage: 18.33\n"
     ]
    },
    {
     "data": {
      "text/plain": [
       "(array([ 0,  1,  6,  7, 28, 30, 50, 51, 54, 55, 56], dtype=int64),)"
      ]
     },
     "execution_count": 20,
     "metadata": {},
     "output_type": "execute_result"
    }
   ],
   "source": [
    "X_chosen_pertubed = gen_adv_samples(X_chosen, y_chosen, epsilon=0.000023)\n",
    "misclassified_idx_4 = check_model_on_perturbed_samples(X_chosen_pertubed)\n",
    "misclassified_idx_4"
   ]
  },
  {
   "cell_type": "markdown",
   "metadata": {},
   "source": [
    "# Reproduce attack\n",
    "\n",
    "How to generate flow to attack the model ?"
   ]
  },
  {
   "cell_type": "markdown",
   "metadata": {},
   "source": [
    "### Choose sample"
   ]
  },
  {
   "cell_type": "code",
   "execution_count": 21,
   "metadata": {},
   "outputs": [
    {
     "data": {
      "text/plain": [
       "\"Conversation','SrcAddr','DstAddr','State','Proto','n_flows','StreamID_unique','Sport_nunique','Sport_mean','Sport_std','Sport_max','Sport_median','Sport_RU','Dport_nunique','Dport_mean','Dport_std','Dport_max','Dport_median','Dport_RU','TotBytes_sum','TotBytes_mean','TotBytes_std','TotBytes_max','TotBytes_median','TotBytes_RU','SrcBytes_sum','SrcBytes_mean','SrcBytes_std','SrcBytes_max','SrcBytes_median','SrcBytes_RU','DstBytes_sum','DstBytes_mean','DstBytes_std','DstBytes_max','DstBytes_median','DstBytes_RU','TotPkts_sum','TotPkts_mean','TotPkts_std','TotPkts_max','TotPkts_median','TotPkts_RU','PktsPerSec_mean','PktsPerSec_std','PktsPerSec_max','PktsPerSec_median','PktsPerSec_RU','BytesPerSec_mean','BytesPerSec_std','BytesPerSec_max','BytesPerSec_median','BytesPerSec_RU','SrcBytesPerSec_mean','SrcBytesPerSec_std','SrcBytesPerSec_max','SrcBytesPerSec_median','SrcBytesPerSec_RU','DstBytesPerSec_mean','DstBytesPerSec_std','DstBytesPerSec_max','DstBytesPerSec_median','DstBytesPerSec_RU','BytesPerPkt_mean','BytesPerPkt_std','BytesPerPkt_max','BytesPerPkt_median','BytesPerPkt_RU','Label','window_id','LabelStr\""
      ]
     },
     "execution_count": 21,
     "metadata": {},
     "output_type": "execute_result"
    }
   ],
   "source": [
    "\"','\".join(list(df_selecteds.columns))"
   ]
  },
  {
   "cell_type": "code",
   "execution_count": 26,
   "metadata": {},
   "outputs": [],
   "source": [
    "# \"\"\" selected aggregated records \"\"\"\n",
    "# df_selecteds[['SrcAddr','DstAddr','State','Proto','n_flows','StreamID_unique','Sport_nunique','Sport_mean','Label','window_id']]"
   ]
  },
  {
   "cell_type": "code",
   "execution_count": 21,
   "metadata": {},
   "outputs": [
    {
     "data": {
      "text/html": [
       "<div>\n",
       "<style scoped>\n",
       "    .dataframe tbody tr th:only-of-type {\n",
       "        vertical-align: middle;\n",
       "    }\n",
       "\n",
       "    .dataframe tbody tr th {\n",
       "        vertical-align: top;\n",
       "    }\n",
       "\n",
       "    .dataframe thead th {\n",
       "        text-align: right;\n",
       "    }\n",
       "</style>\n",
       "<table border=\"1\" class=\"dataframe\">\n",
       "  <thead>\n",
       "    <tr style=\"text-align: right;\">\n",
       "      <th></th>\n",
       "      <th>Conversation</th>\n",
       "      <th>SrcAddr</th>\n",
       "      <th>DstAddr</th>\n",
       "      <th>State</th>\n",
       "      <th>Proto</th>\n",
       "      <th>n_flows</th>\n",
       "      <th>StreamID_unique</th>\n",
       "      <th>Sport_nunique</th>\n",
       "      <th>Sport_mean</th>\n",
       "      <th>Sport_std</th>\n",
       "      <th>...</th>\n",
       "      <th>DstBytesPerSec_median</th>\n",
       "      <th>DstBytesPerSec_RU</th>\n",
       "      <th>BytesPerPkt_mean</th>\n",
       "      <th>BytesPerPkt_std</th>\n",
       "      <th>BytesPerPkt_max</th>\n",
       "      <th>BytesPerPkt_median</th>\n",
       "      <th>BytesPerPkt_RU</th>\n",
       "      <th>Label</th>\n",
       "      <th>window_id</th>\n",
       "      <th>LabelStr</th>\n",
       "    </tr>\n",
       "  </thead>\n",
       "  <tbody>\n",
       "    <tr>\n",
       "      <th>2218</th>\n",
       "      <td>41.232.73.23 -&gt; 150.35.87.168</td>\n",
       "      <td>41.232.73.23</td>\n",
       "      <td>150.35.87.168</td>\n",
       "      <td>alltcp</td>\n",
       "      <td>tcp</td>\n",
       "      <td>2</td>\n",
       "      <td>[ 1976 51591]</td>\n",
       "      <td>2</td>\n",
       "      <td>6668.0</td>\n",
       "      <td>1.414214</td>\n",
       "      <td>...</td>\n",
       "      <td>1.725578</td>\n",
       "      <td>1.0</td>\n",
       "      <td>81.047175</td>\n",
       "      <td>10.549573</td>\n",
       "      <td>88.506849</td>\n",
       "      <td>81.047175</td>\n",
       "      <td>1.0</td>\n",
       "      <td>5</td>\n",
       "      <td>0</td>\n",
       "      <td>flow=From-Botnet-V44-TCP-CC107-IRC-Not-Encrypted</td>\n",
       "    </tr>\n",
       "    <tr>\n",
       "      <th>3615</th>\n",
       "      <td>41.232.73.23 -&gt; 150.35.87.168</td>\n",
       "      <td>41.232.73.23</td>\n",
       "      <td>150.35.87.168</td>\n",
       "      <td>alltcp</td>\n",
       "      <td>tcp</td>\n",
       "      <td>2</td>\n",
       "      <td>[51591 84191]</td>\n",
       "      <td>2</td>\n",
       "      <td>6666.5</td>\n",
       "      <td>0.707107</td>\n",
       "      <td>...</td>\n",
       "      <td>1.735833</td>\n",
       "      <td>1.0</td>\n",
       "      <td>81.148486</td>\n",
       "      <td>10.406297</td>\n",
       "      <td>88.506849</td>\n",
       "      <td>81.148486</td>\n",
       "      <td>1.0</td>\n",
       "      <td>5</td>\n",
       "      <td>1</td>\n",
       "      <td>flow=From-Botnet-V44-TCP-CC107-IRC-Not-Encrypted</td>\n",
       "    </tr>\n",
       "    <tr>\n",
       "      <th>4322</th>\n",
       "      <td>41.232.73.23 -&gt; 150.35.87.168</td>\n",
       "      <td>41.232.73.23</td>\n",
       "      <td>150.35.87.168</td>\n",
       "      <td>alltcp</td>\n",
       "      <td>tcp</td>\n",
       "      <td>2</td>\n",
       "      <td>[ 84191 101058]</td>\n",
       "      <td>2</td>\n",
       "      <td>6667.0</td>\n",
       "      <td>1.414214</td>\n",
       "      <td>...</td>\n",
       "      <td>0.609414</td>\n",
       "      <td>1.0</td>\n",
       "      <td>73.265432</td>\n",
       "      <td>0.742026</td>\n",
       "      <td>73.790123</td>\n",
       "      <td>73.265432</td>\n",
       "      <td>1.0</td>\n",
       "      <td>5</td>\n",
       "      <td>2</td>\n",
       "      <td>flow=From-Botnet-V44-TCP-CC107-IRC-Not-Encrypted</td>\n",
       "    </tr>\n",
       "    <tr>\n",
       "      <th>4675</th>\n",
       "      <td>41.232.73.23 -&gt; 150.35.87.168</td>\n",
       "      <td>41.232.73.23</td>\n",
       "      <td>150.35.87.168</td>\n",
       "      <td>alltcp</td>\n",
       "      <td>tcp</td>\n",
       "      <td>2</td>\n",
       "      <td>[101058 109906]</td>\n",
       "      <td>2</td>\n",
       "      <td>6667.5</td>\n",
       "      <td>0.707107</td>\n",
       "      <td>...</td>\n",
       "      <td>0.593343</td>\n",
       "      <td>1.0</td>\n",
       "      <td>73.045370</td>\n",
       "      <td>0.430811</td>\n",
       "      <td>73.350000</td>\n",
       "      <td>73.045370</td>\n",
       "      <td>1.0</td>\n",
       "      <td>5</td>\n",
       "      <td>3</td>\n",
       "      <td>flow=From-Botnet-V44-TCP-CC107-IRC-Not-Encrypted</td>\n",
       "    </tr>\n",
       "    <tr>\n",
       "      <th>4777</th>\n",
       "      <td>41.232.73.23 -&gt; 150.35.87.168</td>\n",
       "      <td>41.232.73.23</td>\n",
       "      <td>150.35.87.168</td>\n",
       "      <td>alltcp</td>\n",
       "      <td>tcp</td>\n",
       "      <td>2</td>\n",
       "      <td>[109906 115675]</td>\n",
       "      <td>2</td>\n",
       "      <td>6667.5</td>\n",
       "      <td>0.707107</td>\n",
       "      <td>...</td>\n",
       "      <td>0.587141</td>\n",
       "      <td>1.0</td>\n",
       "      <td>73.212500</td>\n",
       "      <td>0.194454</td>\n",
       "      <td>73.350000</td>\n",
       "      <td>73.212500</td>\n",
       "      <td>1.0</td>\n",
       "      <td>5</td>\n",
       "      <td>4</td>\n",
       "      <td>flow=From-Botnet-V44-TCP-CC107-IRC-Not-Encrypted</td>\n",
       "    </tr>\n",
       "  </tbody>\n",
       "</table>\n",
       "<p>5 rows × 71 columns</p>\n",
       "</div>"
      ],
      "text/plain": [
       "                       Conversation       SrcAddr        DstAddr   State  \\\n",
       "2218  41.232.73.23 -> 150.35.87.168  41.232.73.23  150.35.87.168  alltcp   \n",
       "3615  41.232.73.23 -> 150.35.87.168  41.232.73.23  150.35.87.168  alltcp   \n",
       "4322  41.232.73.23 -> 150.35.87.168  41.232.73.23  150.35.87.168  alltcp   \n",
       "4675  41.232.73.23 -> 150.35.87.168  41.232.73.23  150.35.87.168  alltcp   \n",
       "4777  41.232.73.23 -> 150.35.87.168  41.232.73.23  150.35.87.168  alltcp   \n",
       "\n",
       "     Proto  n_flows  StreamID_unique  Sport_nunique  Sport_mean  Sport_std  \\\n",
       "2218   tcp        2    [ 1976 51591]              2      6668.0   1.414214   \n",
       "3615   tcp        2    [51591 84191]              2      6666.5   0.707107   \n",
       "4322   tcp        2  [ 84191 101058]              2      6667.0   1.414214   \n",
       "4675   tcp        2  [101058 109906]              2      6667.5   0.707107   \n",
       "4777   tcp        2  [109906 115675]              2      6667.5   0.707107   \n",
       "\n",
       "      ...  DstBytesPerSec_median  DstBytesPerSec_RU  BytesPerPkt_mean  \\\n",
       "2218  ...               1.725578                1.0         81.047175   \n",
       "3615  ...               1.735833                1.0         81.148486   \n",
       "4322  ...               0.609414                1.0         73.265432   \n",
       "4675  ...               0.593343                1.0         73.045370   \n",
       "4777  ...               0.587141                1.0         73.212500   \n",
       "\n",
       "      BytesPerPkt_std  BytesPerPkt_max  BytesPerPkt_median  BytesPerPkt_RU  \\\n",
       "2218        10.549573        88.506849           81.047175             1.0   \n",
       "3615        10.406297        88.506849           81.148486             1.0   \n",
       "4322         0.742026        73.790123           73.265432             1.0   \n",
       "4675         0.430811        73.350000           73.045370             1.0   \n",
       "4777         0.194454        73.350000           73.212500             1.0   \n",
       "\n",
       "      Label  window_id                                          LabelStr  \n",
       "2218      5          0  flow=From-Botnet-V44-TCP-CC107-IRC-Not-Encrypted  \n",
       "3615      5          1  flow=From-Botnet-V44-TCP-CC107-IRC-Not-Encrypted  \n",
       "4322      5          2  flow=From-Botnet-V44-TCP-CC107-IRC-Not-Encrypted  \n",
       "4675      5          3  flow=From-Botnet-V44-TCP-CC107-IRC-Not-Encrypted  \n",
       "4777      5          4  flow=From-Botnet-V44-TCP-CC107-IRC-Not-Encrypted  \n",
       "\n",
       "[5 rows x 71 columns]"
      ]
     },
     "execution_count": 21,
     "metadata": {},
     "output_type": "execute_result"
    }
   ],
   "source": [
    "\"\"\" selected aggregated records \"\"\"\n",
    "df_selecteds.head()"
   ]
  },
  {
   "cell_type": "markdown",
   "metadata": {},
   "source": [
    "All records have the same n_flows value. Just choose one."
   ]
  },
  {
   "cell_type": "code",
   "execution_count": 22,
   "metadata": {},
   "outputs": [
    {
     "data": {
      "text/plain": [
       "array([2218], dtype=int64)"
      ]
     },
     "execution_count": 22,
     "metadata": {},
     "output_type": "execute_result"
    }
   ],
   "source": [
    "\"\"\" choose the first record \"\"\"\n",
    "selected_idx = selected_idx_all[[0]]\n",
    "selected_idx"
   ]
  },
  {
   "cell_type": "code",
   "execution_count": 23,
   "metadata": {},
   "outputs": [
    {
     "data": {
      "text/html": [
       "<div>\n",
       "<style scoped>\n",
       "    .dataframe tbody tr th:only-of-type {\n",
       "        vertical-align: middle;\n",
       "    }\n",
       "\n",
       "    .dataframe tbody tr th {\n",
       "        vertical-align: top;\n",
       "    }\n",
       "\n",
       "    .dataframe thead th {\n",
       "        text-align: right;\n",
       "    }\n",
       "</style>\n",
       "<table border=\"1\" class=\"dataframe\">\n",
       "  <thead>\n",
       "    <tr style=\"text-align: right;\">\n",
       "      <th></th>\n",
       "      <th>index</th>\n",
       "      <th>Conversation</th>\n",
       "      <th>SrcAddr</th>\n",
       "      <th>DstAddr</th>\n",
       "      <th>State</th>\n",
       "      <th>Proto</th>\n",
       "      <th>n_flows</th>\n",
       "      <th>StreamID_unique</th>\n",
       "      <th>Sport_nunique</th>\n",
       "      <th>Sport_mean</th>\n",
       "      <th>...</th>\n",
       "      <th>P_udp</th>\n",
       "      <th>P_other</th>\n",
       "      <th>S_CON</th>\n",
       "      <th>S_alltcp</th>\n",
       "      <th>S_INT</th>\n",
       "      <th>S_RED</th>\n",
       "      <th>S_other</th>\n",
       "      <th>S_ECO</th>\n",
       "      <th>Label</th>\n",
       "      <th>Label_Pred</th>\n",
       "    </tr>\n",
       "  </thead>\n",
       "  <tbody>\n",
       "    <tr>\n",
       "      <th>0</th>\n",
       "      <td>2218</td>\n",
       "      <td>41.232.73.23 -&gt; 150.35.87.168</td>\n",
       "      <td>41.232.73.23</td>\n",
       "      <td>150.35.87.168</td>\n",
       "      <td>alltcp</td>\n",
       "      <td>tcp</td>\n",
       "      <td>2</td>\n",
       "      <td>[ 1976 51591]</td>\n",
       "      <td>2</td>\n",
       "      <td>6668.0</td>\n",
       "      <td>...</td>\n",
       "      <td>0.0</td>\n",
       "      <td>0.0</td>\n",
       "      <td>0.0</td>\n",
       "      <td>1.0</td>\n",
       "      <td>0.0</td>\n",
       "      <td>0.0</td>\n",
       "      <td>0.0</td>\n",
       "      <td>0.0</td>\n",
       "      <td>1</td>\n",
       "      <td>1</td>\n",
       "    </tr>\n",
       "  </tbody>\n",
       "</table>\n",
       "<p>1 rows × 92 columns</p>\n",
       "</div>"
      ],
      "text/plain": [
       "   index                   Conversation       SrcAddr        DstAddr   State  \\\n",
       "0   2218  41.232.73.23 -> 150.35.87.168  41.232.73.23  150.35.87.168  alltcp   \n",
       "\n",
       "  Proto  n_flows StreamID_unique  Sport_nunique  Sport_mean  ...  P_udp  \\\n",
       "0   tcp        2   [ 1976 51591]              2      6668.0  ...    0.0   \n",
       "\n",
       "   P_other  S_CON  S_alltcp  S_INT  S_RED  S_other  S_ECO  Label  Label_Pred  \n",
       "0      0.0    0.0       1.0    0.0    0.0      0.0    0.0      1           1  \n",
       "\n",
       "[1 rows x 92 columns]"
      ]
     },
     "execution_count": 23,
     "metadata": {},
     "output_type": "execute_result"
    }
   ],
   "source": [
    "df_selected = df.iloc[selected_idx]\n",
    "df_X = pd.DataFrame(X_test[selected_idx], columns=fts_names)\n",
    "df_ytrue = pd.DataFrame(y_test[selected_idx], columns=['Label'])\n",
    "df_ypred = pd.DataFrame(y_pred[selected_idx], columns=['Label_Pred'])\n",
    "df_Xy = pd.concat([df_selected.reset_index(), df_X, df_ytrue, df_ypred], axis=1)\n",
    "df_Xy"
   ]
  },
  {
   "cell_type": "code",
   "execution_count": 24,
   "metadata": {},
   "outputs": [
    {
     "data": {
      "text/plain": [
       "[1976, 51591]"
      ]
     },
     "execution_count": 24,
     "metadata": {},
     "output_type": "execute_result"
    }
   ],
   "source": [
    "\"\"\" get streams ids aggregated into this record \"\"\"\n",
    "stream_ids = [int(s) for s in df_selected['StreamID_unique'].unique()[0].replace('[', '').replace(']', '').strip().split(' ')]\n",
    "stream_ids"
   ]
  },
  {
   "cell_type": "code",
   "execution_count": 25,
   "metadata": {},
   "outputs": [
    {
     "data": {
      "text/html": [
       "<div>\n",
       "<style scoped>\n",
       "    .dataframe tbody tr th:only-of-type {\n",
       "        vertical-align: middle;\n",
       "    }\n",
       "\n",
       "    .dataframe tbody tr th {\n",
       "        vertical-align: top;\n",
       "    }\n",
       "\n",
       "    .dataframe thead th {\n",
       "        text-align: right;\n",
       "    }\n",
       "</style>\n",
       "<table border=\"1\" class=\"dataframe\">\n",
       "  <thead>\n",
       "    <tr style=\"text-align: right;\">\n",
       "      <th></th>\n",
       "      <th>StreamID</th>\n",
       "      <th>StartTime</th>\n",
       "      <th>Dur</th>\n",
       "      <th>Proto</th>\n",
       "      <th>SrcAddr</th>\n",
       "      <th>Sport</th>\n",
       "      <th>Dir</th>\n",
       "      <th>DstAddr</th>\n",
       "      <th>Dport</th>\n",
       "      <th>State</th>\n",
       "      <th>...</th>\n",
       "      <th>SrcBytes</th>\n",
       "      <th>Label</th>\n",
       "      <th>LabelStr</th>\n",
       "      <th>PktsPerSec</th>\n",
       "      <th>BytesPerSec</th>\n",
       "      <th>SrcBytesPerSec</th>\n",
       "      <th>BytesPerPkt</th>\n",
       "      <th>DstBytes</th>\n",
       "      <th>DstBytesPerSec</th>\n",
       "      <th>State_orig</th>\n",
       "    </tr>\n",
       "  </thead>\n",
       "  <tbody>\n",
       "    <tr>\n",
       "      <th>1975</th>\n",
       "      <td>1976</td>\n",
       "      <td>2022-07-25 23:30:50.093002</td>\n",
       "      <td>3571.229975</td>\n",
       "      <td>tcp</td>\n",
       "      <td>41.232.73.23</td>\n",
       "      <td>6669</td>\n",
       "      <td>&lt;?&gt;</td>\n",
       "      <td>150.35.87.168</td>\n",
       "      <td>1027</td>\n",
       "      <td>alltcp</td>\n",
       "      <td>...</td>\n",
       "      <td>3750</td>\n",
       "      <td>5</td>\n",
       "      <td>flow=From-Botnet-V44-TCP-CC107-IRC-Not-Encrypted</td>\n",
       "      <td>0.022401</td>\n",
       "      <td>1.648452</td>\n",
       "      <td>1.050058</td>\n",
       "      <td>73.587500</td>\n",
       "      <td>2137</td>\n",
       "      <td>0.598393</td>\n",
       "      <td>PA_PA</td>\n",
       "    </tr>\n",
       "    <tr>\n",
       "      <th>51590</th>\n",
       "      <td>51591</td>\n",
       "      <td>2022-07-26 00:32:56.114638</td>\n",
       "      <td>3527.809143</td>\n",
       "      <td>tcp</td>\n",
       "      <td>41.232.73.23</td>\n",
       "      <td>6667</td>\n",
       "      <td>&lt;?&gt;</td>\n",
       "      <td>150.35.87.168</td>\n",
       "      <td>1027</td>\n",
       "      <td>alltcp</td>\n",
       "      <td>...</td>\n",
       "      <td>9319</td>\n",
       "      <td>5</td>\n",
       "      <td>flow=From-Botnet-V44-TCP-CC107-IRC-Not-Encrypted</td>\n",
       "      <td>0.062078</td>\n",
       "      <td>5.494345</td>\n",
       "      <td>2.641583</td>\n",
       "      <td>88.506849</td>\n",
       "      <td>10064</td>\n",
       "      <td>2.852762</td>\n",
       "      <td>PA_PA</td>\n",
       "    </tr>\n",
       "  </tbody>\n",
       "</table>\n",
       "<p>2 rows × 24 columns</p>\n",
       "</div>"
      ],
      "text/plain": [
       "       StreamID                   StartTime          Dur Proto       SrcAddr  \\\n",
       "1975       1976  2022-07-25 23:30:50.093002  3571.229975   tcp  41.232.73.23   \n",
       "51590     51591  2022-07-26 00:32:56.114638  3527.809143   tcp  41.232.73.23   \n",
       "\n",
       "       Sport    Dir        DstAddr  Dport   State  ...  SrcBytes  Label  \\\n",
       "1975    6669    <?>  150.35.87.168   1027  alltcp  ...      3750      5   \n",
       "51590   6667    <?>  150.35.87.168   1027  alltcp  ...      9319      5   \n",
       "\n",
       "                                               LabelStr  PktsPerSec  \\\n",
       "1975   flow=From-Botnet-V44-TCP-CC107-IRC-Not-Encrypted    0.022401   \n",
       "51590  flow=From-Botnet-V44-TCP-CC107-IRC-Not-Encrypted    0.062078   \n",
       "\n",
       "       BytesPerSec  SrcBytesPerSec BytesPerPkt  DstBytes  DstBytesPerSec  \\\n",
       "1975      1.648452        1.050058   73.587500      2137        0.598393   \n",
       "51590     5.494345        2.641583   88.506849     10064        2.852762   \n",
       "\n",
       "       State_orig  \n",
       "1975        PA_PA  \n",
       "51590       PA_PA  \n",
       "\n",
       "[2 rows x 24 columns]"
      ]
     },
     "execution_count": 25,
     "metadata": {},
     "output_type": "execute_result"
    }
   ],
   "source": [
    "\"\"\" get original flows \"\"\"\n",
    "dfo_selected = dfo.loc[dfo['StreamID'].isin(stream_ids)]\n",
    "dfo_selected"
   ]
  },
  {
   "cell_type": "code",
   "execution_count": 26,
   "metadata": {},
   "outputs": [
    {
     "data": {
      "text/plain": [
       "\"BytesPerPkt_mean','PktsPerSec_mean','BytesPerSec_mean','Sport_max','Sport_mean','n_flows','BytesPerPkt_max','BytesPerSec_max','SrcBytesPerSec_max','P_tcp','P_udp','P_other','S_CON','S_alltcp','S_INT','S_RED','S_other','S_ECO\""
      ]
     },
     "execution_count": 26,
     "metadata": {},
     "output_type": "execute_result"
    }
   ],
   "source": [
    "\"','\".join(fts_names)"
   ]
  },
  {
   "cell_type": "markdown",
   "metadata": {},
   "source": [
    "### Gen adv sample excluding some fields (not perturbing)\n",
    "One-hot fields should not be changed. Sport should not be changed as well.  \n",
    "Changing these fields might cause the bot not function correctly.  \n",
    "`n_flows` can be changed but can only be increased (to ensure the bot intention is retained)  "
   ]
  },
  {
   "cell_type": "code",
   "execution_count": 27,
   "metadata": {},
   "outputs": [
    {
     "data": {
      "text/plain": [
       "[3, 4, 9, 10, 11, 12, 13, 14, 15, 16, 17]"
      ]
     },
     "execution_count": 27,
     "metadata": {},
     "output_type": "execute_result"
    }
   ],
   "source": [
    "\"\"\" choose the fields to be remained \"\"\"\n",
    "fixed_cols = ['Sport_max', 'Sport_mean', 'P_tcp', 'P_udp', 'P_other', 'S_CON', 'S_alltcp', 'S_INT', 'S_RED', 'S_other', 'S_ECO']\n",
    "idx_fixed = [fts_names.index(c) for c in fixed_cols]\n",
    "idx_fixed"
   ]
  },
  {
   "cell_type": "code",
   "execution_count": 28,
   "metadata": {},
   "outputs": [
    {
     "data": {
      "text/plain": [
       "array([[0.10175931, 0.10174638, 1.        , 0.        , 0.        ,\n",
       "        0.        , 1.        , 0.        , 0.        , 0.        ,\n",
       "        0.        ]])"
      ]
     },
     "execution_count": 28,
     "metadata": {},
     "output_type": "execute_result"
    }
   ],
   "source": [
    "\"\"\" store the true values of the fixed fields \"\"\"\n",
    "X_chosen = X_test[selected_idx,:]\n",
    "y_chosen = y_test[selected_idx]\n",
    "\n",
    "#? store true value of one-hot cols cause we'll keep these fields.\n",
    "X_chosen_fixed = X_chosen[:,idx_fixed]\n",
    "X_chosen_fixed"
   ]
  },
  {
   "cell_type": "code",
   "execution_count": 29,
   "metadata": {},
   "outputs": [
    {
     "name": "stdout",
     "output_type": "stream",
     "text": [
      "[[ 5.28952304e-02  2.00845864e-05  2.00180146e-05  1.01779312e-01\n",
      "   1.01726382e-01  2.00000000e-05  5.65017162e-02  2.00186306e-05\n",
      "   2.00089598e-05  9.99980000e-01  2.00000000e-05  2.00000000e-05\n",
      "   2.00000000e-05  9.99980000e-01 -2.00000000e-05  2.00000000e-05\n",
      "   0.00000000e+00  2.00000000e-05]]\n",
      "[[5.28952304e-02 2.00845864e-05 2.00180146e-05 1.01759312e-01\n",
      "  1.01746382e-01 2.00000000e-05 5.65017162e-02 2.00186306e-05\n",
      "  2.00089598e-05 1.00000000e+00 0.00000000e+00 0.00000000e+00\n",
      "  0.00000000e+00 1.00000000e+00 0.00000000e+00 0.00000000e+00\n",
      "  0.00000000e+00 0.00000000e+00]]\n",
      "[1]\n",
      "Misclassification percentage: 0.0\n"
     ]
    }
   ],
   "source": [
    "\"\"\" generate adversarial sample whose fixed fields remain old value \"\"\"\n",
    "#? generate adversarial sample\n",
    "X_chosen_pertubed = gen_adv_samples(X_chosen, y_chosen, epsilon=0.00002)\n",
    "print(X_chosen_pertubed)\n",
    "\n",
    "#? replace one-hot cols with true values\n",
    "X_chosen_pertubed[:,idx_fixed] = X_chosen_fixed\n",
    "print(X_chosen_pertubed)\n",
    "\n",
    "#? check model output\n",
    "_ = check_model_on_perturbed_samples(X_chosen_pertubed)"
   ]
  },
  {
   "cell_type": "markdown",
   "metadata": {},
   "source": [
    "Old epsilon cannot change the model output. Increase epsilon."
   ]
  },
  {
   "cell_type": "code",
   "execution_count": 30,
   "metadata": {},
   "outputs": [
    {
     "name": "stdout",
     "output_type": "stream",
     "text": [
      "[0]\n",
      "Misclassification percentage: 100.0\n"
     ]
    }
   ],
   "source": [
    "\"\"\" change epsilon till the model breaks \"\"\"\n",
    "X_chosen_pertubed = gen_adv_samples(X_chosen, y_chosen, epsilon=0.00005)\n",
    "X_chosen_pertubed[:,idx_fixed] = X_chosen_fixed\n",
    "_ = check_model_on_perturbed_samples(X_chosen_pertubed)"
   ]
  },
  {
   "cell_type": "markdown",
   "metadata": {},
   "source": [
    "`epsilon = 0.00005` is enough"
   ]
  },
  {
   "cell_type": "markdown",
   "metadata": {},
   "source": [
    "The fields we should change are: `BytesPerPkt_mean`, `PktsPerSec_mean`, `BytesPerSec_mean`, `BytesPerPkt_max`, `BytesPerSec_max`, `SrcBytesPerSec_max`.  \n",
    "Note that the model doing minmax scaling on data. "
   ]
  },
  {
   "cell_type": "code",
   "execution_count": 31,
   "metadata": {},
   "outputs": [
    {
     "name": "stdout",
     "output_type": "stream",
     "text": [
      "[[5.29152304e-02 8.45864081e-08 1.80145862e-08 1.01759312e-01\n",
      "  1.01746382e-01 0.00000000e+00 5.64817162e-02 1.86306400e-08\n",
      "  8.95980765e-09 1.00000000e+00 0.00000000e+00 0.00000000e+00\n",
      "  0.00000000e+00 1.00000000e+00 0.00000000e+00 0.00000000e+00\n",
      "  0.00000000e+00 0.00000000e+00]]\n",
      "[[5.28652304e-02 5.00845864e-05 5.00180146e-05 1.01759312e-01\n",
      "  1.01746382e-01 5.00000000e-05 5.65317162e-02 5.00186306e-05\n",
      "  5.00089598e-05 1.00000000e+00 0.00000000e+00 0.00000000e+00\n",
      "  0.00000000e+00 1.00000000e+00 0.00000000e+00 0.00000000e+00\n",
      "  0.00000000e+00 0.00000000e+00]]\n"
     ]
    },
    {
     "data": {
      "text/plain": [
       "array([[-5.e-05,  5.e-05,  5.e-05,  0.e+00,  0.e+00,  5.e-05,  5.e-05,\n",
       "         5.e-05,  5.e-05,  0.e+00,  0.e+00,  0.e+00,  0.e+00,  0.e+00,\n",
       "         0.e+00,  0.e+00,  0.e+00,  0.e+00]])"
      ]
     },
     "execution_count": 31,
     "metadata": {},
     "output_type": "execute_result"
    }
   ],
   "source": [
    "\"\"\" difference between original and perturbed sample \"\"\"\n",
    "print(X_chosen)\n",
    "print(X_chosen_pertubed)\n",
    "\n",
    "diff = np.subtract(X_chosen_pertubed, X_chosen)\n",
    "diff"
   ]
  },
  {
   "cell_type": "markdown",
   "metadata": {},
   "source": [
    "### New values ?\n",
    "\n",
    "df_selected['BytesPerPkt_mean'].values[0]   ~  X_chosen[0,0]   \n",
    "dfn_selected['BytesPerPkt_mean'].values[0]  ~  X_chosen_pertubed[0,0]"
   ]
  },
  {
   "cell_type": "code",
   "execution_count": 32,
   "metadata": {},
   "outputs": [
    {
     "name": "stdout",
     "output_type": "stream",
     "text": [
      "[0]\n",
      "Misclassification percentage: 100.0\n"
     ]
    }
   ],
   "source": [
    "\"\"\" change epsilon till the model breaks \"\"\"\n",
    "X_chosen_pertubed = gen_adv_samples(X_chosen, y_chosen, epsilon=0.00005)\n",
    "X_chosen_pertubed[:,idx_fixed] = X_chosen_fixed\n",
    "_ = check_model_on_perturbed_samples(X_chosen_pertubed)"
   ]
  },
  {
   "cell_type": "code",
   "execution_count": 33,
   "metadata": {},
   "outputs": [
    {
     "name": "stdout",
     "output_type": "stream",
     "text": [
      "BytesPerPkt_mean 0.052865230413430074 -5.000000000000143e-05\n",
      "PktsPerSec_mean 5.0084586408050573e-05 5e-05\n",
      "n_flows 5e-05 5e-05\n",
      "BytesPerSec_mean 5.00180145862275e-05 5e-05\n",
      "BytesPerPkt_max 0.05653171621893331 5.000000000000143e-05\n",
      "BytesPerSec_max 5.001863064003617e-05 5e-05\n",
      "SrcBytesPerSec_max 5.000895980765106e-05 5e-05\n"
     ]
    },
    {
     "data": {
      "text/html": [
       "<div>\n",
       "<style scoped>\n",
       "    .dataframe tbody tr th:only-of-type {\n",
       "        vertical-align: middle;\n",
       "    }\n",
       "\n",
       "    .dataframe tbody tr th {\n",
       "        vertical-align: top;\n",
       "    }\n",
       "\n",
       "    .dataframe thead th {\n",
       "        text-align: right;\n",
       "    }\n",
       "</style>\n",
       "<table border=\"1\" class=\"dataframe\">\n",
       "  <thead>\n",
       "    <tr style=\"text-align: right;\">\n",
       "      <th></th>\n",
       "      <th>BytesPerPkt_mean</th>\n",
       "      <th>PktsPerSec_mean</th>\n",
       "      <th>n_flows</th>\n",
       "      <th>BytesPerSec_mean</th>\n",
       "      <th>BytesPerPkt_max</th>\n",
       "      <th>BytesPerSec_max</th>\n",
       "      <th>SrcBytesPerSec_max</th>\n",
       "    </tr>\n",
       "  </thead>\n",
       "  <tbody>\n",
       "    <tr>\n",
       "      <th>2218</th>\n",
       "      <td>81.047175</td>\n",
       "      <td>0.04224</td>\n",
       "      <td>2</td>\n",
       "      <td>3.571398</td>\n",
       "      <td>88.506849</td>\n",
       "      <td>5.494345</td>\n",
       "      <td>2.641583</td>\n",
       "    </tr>\n",
       "  </tbody>\n",
       "</table>\n",
       "</div>"
      ],
      "text/plain": [
       "      BytesPerPkt_mean  PktsPerSec_mean  n_flows  BytesPerSec_mean  \\\n",
       "2218         81.047175          0.04224        2          3.571398   \n",
       "\n",
       "      BytesPerPkt_max  BytesPerSec_max  SrcBytesPerSec_max  \n",
       "2218        88.506849         5.494345            2.641583  "
      ]
     },
     "metadata": {},
     "output_type": "display_data"
    },
    {
     "data": {
      "text/html": [
       "<div>\n",
       "<style scoped>\n",
       "    .dataframe tbody tr th:only-of-type {\n",
       "        vertical-align: middle;\n",
       "    }\n",
       "\n",
       "    .dataframe tbody tr th {\n",
       "        vertical-align: top;\n",
       "    }\n",
       "\n",
       "    .dataframe thead th {\n",
       "        text-align: right;\n",
       "    }\n",
       "</style>\n",
       "<table border=\"1\" class=\"dataframe\">\n",
       "  <thead>\n",
       "    <tr style=\"text-align: right;\">\n",
       "      <th></th>\n",
       "      <th>BytesPerPkt_mean</th>\n",
       "      <th>PktsPerSec_mean</th>\n",
       "      <th>n_flows</th>\n",
       "      <th>BytesPerSec_mean</th>\n",
       "      <th>BytesPerPkt_max</th>\n",
       "      <th>BytesPerSec_max</th>\n",
       "      <th>SrcBytesPerSec_max</th>\n",
       "    </tr>\n",
       "  </thead>\n",
       "  <tbody>\n",
       "    <tr>\n",
       "      <th>2218</th>\n",
       "      <td>80.970593</td>\n",
       "      <td>25.010623</td>\n",
       "      <td>-1</td>\n",
       "      <td>9916.089546</td>\n",
       "      <td>88.585199</td>\n",
       "      <td>14750.948178</td>\n",
       "      <td>14743.93356</td>\n",
       "    </tr>\n",
       "  </tbody>\n",
       "</table>\n",
       "</div>"
      ],
      "text/plain": [
       "      BytesPerPkt_mean  PktsPerSec_mean  n_flows  BytesPerSec_mean  \\\n",
       "2218         80.970593        25.010623       -1       9916.089546   \n",
       "\n",
       "      BytesPerPkt_max  BytesPerSec_max  SrcBytesPerSec_max  \n",
       "2218        88.585199     14750.948178         14743.93356  "
      ]
     },
     "metadata": {},
     "output_type": "display_data"
    }
   ],
   "source": [
    "df_selected_n = copy.deepcopy(df_selected)\n",
    "\n",
    "num_cols = ['BytesPerPkt_mean', 'PktsPerSec_mean', 'n_flows', 'BytesPerSec_mean', 'BytesPerPkt_max', 'BytesPerSec_max', 'SrcBytesPerSec_max']\n",
    "\n",
    "idx_num = [fts_names.index(c) for c in num_cols]\n",
    "for c in num_cols:\n",
    "    idx = fts_names.index(c)\n",
    "    print(c, X_chosen_pertubed[0,idx], diff[0,idx])\n",
    "    if X_chosen[0,idx] == 0: #? n_flows is small therefore it is encoded into 0\n",
    "        df_selected_n[c].values[0] = -1\n",
    "    else:\n",
    "        df_selected_n[c].values[0] = X_chosen_pertubed[0,idx] * df_selected[c].values[0] / X_chosen[0,idx]\n",
    "\n",
    "display(df_selected[num_cols])\n",
    "display(df_selected_n[num_cols])"
   ]
  },
  {
   "cell_type": "code",
   "execution_count": 125,
   "metadata": {},
   "outputs": [
    {
     "data": {
      "text/html": [
       "<div>\n",
       "<style scoped>\n",
       "    .dataframe tbody tr th:only-of-type {\n",
       "        vertical-align: middle;\n",
       "    }\n",
       "\n",
       "    .dataframe tbody tr th {\n",
       "        vertical-align: top;\n",
       "    }\n",
       "\n",
       "    .dataframe thead th {\n",
       "        text-align: right;\n",
       "    }\n",
       "</style>\n",
       "<table border=\"1\" class=\"dataframe\">\n",
       "  <thead>\n",
       "    <tr style=\"text-align: right;\">\n",
       "      <th></th>\n",
       "      <th>Conversation</th>\n",
       "      <th>SrcAddr</th>\n",
       "      <th>DstAddr</th>\n",
       "      <th>State</th>\n",
       "      <th>Proto</th>\n",
       "      <th>n_flows</th>\n",
       "      <th>StreamID_unique</th>\n",
       "      <th>Sport_nunique</th>\n",
       "      <th>Sport_mean</th>\n",
       "      <th>Sport_std</th>\n",
       "      <th>...</th>\n",
       "      <th>DstBytesPerSec_median</th>\n",
       "      <th>DstBytesPerSec_RU</th>\n",
       "      <th>BytesPerPkt_mean</th>\n",
       "      <th>BytesPerPkt_std</th>\n",
       "      <th>BytesPerPkt_max</th>\n",
       "      <th>BytesPerPkt_median</th>\n",
       "      <th>BytesPerPkt_RU</th>\n",
       "      <th>Label</th>\n",
       "      <th>window_id</th>\n",
       "      <th>LabelStr</th>\n",
       "    </tr>\n",
       "  </thead>\n",
       "  <tbody>\n",
       "    <tr>\n",
       "      <th>2218</th>\n",
       "      <td>41.232.73.23 -&gt; 150.35.87.168</td>\n",
       "      <td>41.232.73.23</td>\n",
       "      <td>150.35.87.168</td>\n",
       "      <td>alltcp</td>\n",
       "      <td>tcp</td>\n",
       "      <td>2</td>\n",
       "      <td>[ 1976 51591]</td>\n",
       "      <td>2</td>\n",
       "      <td>6668.0</td>\n",
       "      <td>1.414214</td>\n",
       "      <td>...</td>\n",
       "      <td>1.725578</td>\n",
       "      <td>1.0</td>\n",
       "      <td>81.047175</td>\n",
       "      <td>10.549573</td>\n",
       "      <td>88.506849</td>\n",
       "      <td>81.047175</td>\n",
       "      <td>1.0</td>\n",
       "      <td>5</td>\n",
       "      <td>0</td>\n",
       "      <td>flow=From-Botnet-V44-TCP-CC107-IRC-Not-Encrypted</td>\n",
       "    </tr>\n",
       "  </tbody>\n",
       "</table>\n",
       "<p>1 rows × 71 columns</p>\n",
       "</div>"
      ],
      "text/plain": [
       "                       Conversation       SrcAddr        DstAddr   State  \\\n",
       "2218  41.232.73.23 -> 150.35.87.168  41.232.73.23  150.35.87.168  alltcp   \n",
       "\n",
       "     Proto  n_flows StreamID_unique  Sport_nunique  Sport_mean  Sport_std  \\\n",
       "2218   tcp        2   [ 1976 51591]              2      6668.0   1.414214   \n",
       "\n",
       "      ...  DstBytesPerSec_median  DstBytesPerSec_RU  BytesPerPkt_mean  \\\n",
       "2218  ...               1.725578                1.0         81.047175   \n",
       "\n",
       "      BytesPerPkt_std  BytesPerPkt_max  BytesPerPkt_median  BytesPerPkt_RU  \\\n",
       "2218        10.549573        88.506849           81.047175             1.0   \n",
       "\n",
       "      Label  window_id                                          LabelStr  \n",
       "2218      5          0  flow=From-Botnet-V44-TCP-CC107-IRC-Not-Encrypted  \n",
       "\n",
       "[1 rows x 71 columns]"
      ]
     },
     "execution_count": 125,
     "metadata": {},
     "output_type": "execute_result"
    }
   ],
   "source": [
    "df_selected"
   ]
  },
  {
   "cell_type": "code",
   "execution_count": 130,
   "metadata": {},
   "outputs": [],
   "source": [
    "dfo_selected_n = copy.deepcopy(dfo_selected)\n",
    "dfo_selected_n[['StreamID','StartTime','Dur','Proto','SrcAddr','Sport','Dir','DstAddr','Dport','State','Label','LabelStr','PktsPerSec','BytesPerSec','SrcBytesPerSec','BytesPerPkt','State_orig']].to_csv(f'{result_dir}/dfo_new.csv')"
   ]
  },
  {
   "cell_type": "code",
   "execution_count": 68,
   "metadata": {},
   "outputs": [
    {
     "data": {
      "text/plain": [
       "0.0422395"
      ]
     },
     "execution_count": 68,
     "metadata": {},
     "output_type": "execute_result"
    }
   ],
   "source": [
    "(0.022401+0.062078)/2"
   ]
  },
  {
   "cell_type": "code",
   "execution_count": 114,
   "metadata": {},
   "outputs": [
    {
     "data": {
      "text/plain": [
       "10401.691312999996"
      ]
     },
     "execution_count": 114,
     "metadata": {},
     "output_type": "execute_result"
    }
   ],
   "source": [
    "9916.089546*7 - 1.648452 - 5.494345 - 14750.948178*4"
   ]
  },
  {
   "cell_type": "code",
   "execution_count": 124,
   "metadata": {},
   "outputs": [
    {
     "data": {
      "text/plain": [
       "79.02865075"
      ]
     },
     "execution_count": 124,
     "metadata": {},
     "output_type": "execute_result"
    }
   ],
   "source": [
    "(80.970593*7 - 73.587500 - 88.506849 - 88.585199)/4"
   ]
  },
  {
   "cell_type": "code",
   "execution_count": 123,
   "metadata": {},
   "outputs": [
    {
     "data": {
      "text/plain": [
       "43.74747049999999"
      ]
     },
     "execution_count": 123,
     "metadata": {},
     "output_type": "execute_result"
    }
   ],
   "source": [
    "(25.010623*7 - 0.022401 - 0.062078)/4"
   ]
  },
  {
   "cell_type": "code",
   "execution_count": 109,
   "metadata": {},
   "outputs": [
    {
     "data": {
      "text/plain": [
       "49.9790065"
      ]
     },
     "execution_count": 109,
     "metadata": {},
     "output_type": "execute_result"
    }
   ],
   "source": [
    "99.958013/2"
   ]
  },
  {
   "cell_type": "code",
   "execution_count": null,
   "metadata": {},
   "outputs": [
    {
     "data": {
      "text/plain": [
       "(81.04717465753424, 81.04717465753424)"
      ]
     },
     "execution_count": 264,
     "metadata": {},
     "output_type": "execute_result"
    }
   ],
   "source": [
    "dfo_selected['BytesPerPkt'].mean(), dfo_selected_n['BytesPerPkt'].mean()"
   ]
  },
  {
   "cell_type": "code",
   "execution_count": null,
   "metadata": {},
   "outputs": [
    {
     "data": {
      "text/plain": [
       "1975    73.5875\n",
       "Name: BytesPerPkt, dtype: float64"
      ]
     },
     "execution_count": 271,
     "metadata": {},
     "output_type": "execute_result"
    }
   ],
   "source": [
    "dfo_selected_n.iloc[[0]]['BytesPerPkt']"
   ]
  },
  {
   "cell_type": "code",
   "execution_count": null,
   "metadata": {},
   "outputs": [],
   "source": [
    "dfo_selected_n.iloc[[0]]['BytesPerPkt'] = 0"
   ]
  },
  {
   "cell_type": "code",
   "execution_count": null,
   "metadata": {},
   "outputs": [
    {
     "data": {
      "text/plain": [
       "1975    73.5875\n",
       "Name: BytesPerPkt, dtype: float64"
      ]
     },
     "execution_count": 273,
     "metadata": {},
     "output_type": "execute_result"
    }
   ],
   "source": [
    "dfo_selected_n.iloc[[0]]['BytesPerPkt']"
   ]
  }
 ],
 "metadata": {
  "interpreter": {
   "hash": "ee5cc6fef2d70a7e71ee3826687cbd150f18158e0b1eef11d4f4f92bb920e304"
  },
  "kernelspec": {
   "display_name": "Python 3.9.6 64-bit",
   "language": "python",
   "name": "python3"
  },
  "language_info": {
   "codemirror_mode": {
    "name": "ipython",
    "version": 3
   },
   "file_extension": ".py",
   "mimetype": "text/x-python",
   "name": "python",
   "nbconvert_exporter": "python",
   "pygments_lexer": "ipython3",
   "version": "3.9.6"
  },
  "orig_nbformat": 4
 },
 "nbformat": 4,
 "nbformat_minor": 2
}
