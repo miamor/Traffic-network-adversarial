{
 "cells": [
  {
   "cell_type": "code",
   "execution_count": 92,
   "metadata": {},
   "outputs": [],
   "source": [
    "data_dir = 'data'\n",
    "result_dir = 'result'"
   ]
  },
  {
   "cell_type": "markdown",
   "metadata": {},
   "source": [
    "# Import"
   ]
  },
  {
   "cell_type": "code",
   "execution_count": 93,
   "metadata": {},
   "outputs": [],
   "source": [
    "import pandas as pd\n",
    "import numpy as np\n",
    "# import datetime\n",
    "import copy\n",
    "\n",
    "import warnings\n",
    "warnings.filterwarnings('ignore')\n",
    "\n",
    "\n",
    "window_width = 7200 #10800 #120 #60 #600 # 120  # seconds\n",
    "window_stride = 3600 #10800 #60 #60 #30 #600 # 60  # seconds\n",
    "\n",
    "start_idx = 0\n",
    "end_idx = 12000\n",
    "\n",
    "af = 'u'\n",
    "pf = f'{window_width}-{window_stride}.__2__'\n",
    "ra = '__97.39__'\n",
    "\n",
    "test_attack_csvname = 'dfo_new1'"
   ]
  },
  {
   "cell_type": "markdown",
   "metadata": {},
   "source": [
    "# Aggregate flows"
   ]
  },
  {
   "cell_type": "code",
   "execution_count": 94,
   "metadata": {},
   "outputs": [],
   "source": [
    "path = f'{result_dir}/{test_attack_csvname}.csv'\n",
    "df = pd.read_csv(path, index_col=[0])"
   ]
  },
  {
   "cell_type": "code",
   "execution_count": 95,
   "metadata": {},
   "outputs": [],
   "source": [
    "df['Conversation'] = df['SrcAddr']+' -> '+df['DstAddr']"
   ]
  },
  {
   "cell_type": "markdown",
   "metadata": {},
   "source": [
    "## State"
   ]
  },
  {
   "cell_type": "code",
   "execution_count": 96,
   "metadata": {},
   "outputs": [],
   "source": [
    "df['State_orig'] = df['State']\n",
    "df.loc[(df['State_orig'].str.len() > 2) & (df['State_orig'].str.contains('_')), 'State'] = 'alltcp'"
   ]
  },
  {
   "cell_type": "markdown",
   "metadata": {},
   "source": [
    "## Aggregate"
   ]
  },
  {
   "cell_type": "code",
   "execution_count": 97,
   "metadata": {},
   "outputs": [
    {
     "data": {
      "text/html": [
       "<div>\n",
       "<style scoped>\n",
       "    .dataframe tbody tr th:only-of-type {\n",
       "        vertical-align: middle;\n",
       "    }\n",
       "\n",
       "    .dataframe tbody tr th {\n",
       "        vertical-align: top;\n",
       "    }\n",
       "\n",
       "    .dataframe thead th {\n",
       "        text-align: right;\n",
       "    }\n",
       "</style>\n",
       "<table border=\"1\" class=\"dataframe\">\n",
       "  <thead>\n",
       "    <tr style=\"text-align: right;\">\n",
       "      <th></th>\n",
       "      <th>StreamID</th>\n",
       "      <th>StartTime</th>\n",
       "      <th>Dur</th>\n",
       "      <th>Proto</th>\n",
       "      <th>SrcAddr</th>\n",
       "      <th>Sport</th>\n",
       "      <th>Dir</th>\n",
       "      <th>DstAddr</th>\n",
       "      <th>Dport</th>\n",
       "      <th>State</th>\n",
       "      <th>Label</th>\n",
       "      <th>LabelStr</th>\n",
       "      <th>PktsPerSec</th>\n",
       "      <th>BytesPerSec</th>\n",
       "      <th>SrcBytesPerSec</th>\n",
       "      <th>BytesPerPkt</th>\n",
       "      <th>State_orig</th>\n",
       "      <th>Conversation</th>\n",
       "    </tr>\n",
       "  </thead>\n",
       "  <tbody>\n",
       "    <tr>\n",
       "      <th>1975</th>\n",
       "      <td>1976</td>\n",
       "      <td>2022-07-25 23:30:50.093002</td>\n",
       "      <td>3571.229975</td>\n",
       "      <td>tcp</td>\n",
       "      <td>41.232.73.23</td>\n",
       "      <td>6669</td>\n",
       "      <td>&lt;?&gt;</td>\n",
       "      <td>150.35.87.168</td>\n",
       "      <td>1027</td>\n",
       "      <td>alltcp</td>\n",
       "      <td>5</td>\n",
       "      <td>flow=From-Botnet-V44-TCP-CC107-IRC-Not-Encrypted</td>\n",
       "      <td>0.022401</td>\n",
       "      <td>1.648452</td>\n",
       "      <td>1.050058</td>\n",
       "      <td>73.587500</td>\n",
       "      <td>alltcp</td>\n",
       "      <td>41.232.73.23 -&gt; 150.35.87.168</td>\n",
       "    </tr>\n",
       "    <tr>\n",
       "      <th>1976</th>\n",
       "      <td>1977</td>\n",
       "      <td>2022-07-25 23:31:50.093002</td>\n",
       "      <td>3571.229975</td>\n",
       "      <td>tcp</td>\n",
       "      <td>41.232.73.23</td>\n",
       "      <td>6668</td>\n",
       "      <td>&lt;?&gt;</td>\n",
       "      <td>150.35.87.168</td>\n",
       "      <td>1027</td>\n",
       "      <td>alltcp</td>\n",
       "      <td>5</td>\n",
       "      <td>flow=From-Botnet-V44-TCP-CC107-IRC-Not-Encrypted</td>\n",
       "      <td>49.979010</td>\n",
       "      <td>14750.948178</td>\n",
       "      <td>14743.933560</td>\n",
       "      <td>88.585199</td>\n",
       "      <td>alltcp</td>\n",
       "      <td>41.232.73.23 -&gt; 150.35.87.168</td>\n",
       "    </tr>\n",
       "    <tr>\n",
       "      <th>1978</th>\n",
       "      <td>1979</td>\n",
       "      <td>2022-07-25 23:33:50.093002</td>\n",
       "      <td>3571.229975</td>\n",
       "      <td>tcp</td>\n",
       "      <td>41.232.73.23</td>\n",
       "      <td>6668</td>\n",
       "      <td>&lt;?&gt;</td>\n",
       "      <td>150.35.87.168</td>\n",
       "      <td>1027</td>\n",
       "      <td>alltcp</td>\n",
       "      <td>5</td>\n",
       "      <td>flow=From-Botnet-V44-TCP-CC107-IRC-Not-Encrypted</td>\n",
       "      <td>49.979010</td>\n",
       "      <td>24906.267209</td>\n",
       "      <td>24906.267209</td>\n",
       "      <td>73.202824</td>\n",
       "      <td>alltcp</td>\n",
       "      <td>41.232.73.23 -&gt; 150.35.87.168</td>\n",
       "    </tr>\n",
       "    <tr>\n",
       "      <th>51590</th>\n",
       "      <td>51591</td>\n",
       "      <td>2022-07-26 00:32:56.114638</td>\n",
       "      <td>3527.809143</td>\n",
       "      <td>tcp</td>\n",
       "      <td>41.232.73.23</td>\n",
       "      <td>6667</td>\n",
       "      <td>&lt;?&gt;</td>\n",
       "      <td>150.35.87.168</td>\n",
       "      <td>1027</td>\n",
       "      <td>alltcp</td>\n",
       "      <td>5</td>\n",
       "      <td>flow=From-Botnet-V44-TCP-CC107-IRC-Not-Encrypted</td>\n",
       "      <td>0.062078</td>\n",
       "      <td>5.494345</td>\n",
       "      <td>2.641583</td>\n",
       "      <td>88.506849</td>\n",
       "      <td>alltcp</td>\n",
       "      <td>41.232.73.23 -&gt; 150.35.87.168</td>\n",
       "    </tr>\n",
       "  </tbody>\n",
       "</table>\n",
       "</div>"
      ],
      "text/plain": [
       "       StreamID                   StartTime          Dur Proto       SrcAddr  \\\n",
       "1975       1976  2022-07-25 23:30:50.093002  3571.229975   tcp  41.232.73.23   \n",
       "1976       1977  2022-07-25 23:31:50.093002  3571.229975   tcp  41.232.73.23   \n",
       "1978       1979  2022-07-25 23:33:50.093002  3571.229975   tcp  41.232.73.23   \n",
       "51590     51591  2022-07-26 00:32:56.114638  3527.809143   tcp  41.232.73.23   \n",
       "\n",
       "       Sport    Dir        DstAddr  Dport   State  Label  \\\n",
       "1975    6669    <?>  150.35.87.168   1027  alltcp      5   \n",
       "1976    6668    <?>  150.35.87.168   1027  alltcp      5   \n",
       "1978    6668    <?>  150.35.87.168   1027  alltcp      5   \n",
       "51590   6667    <?>  150.35.87.168   1027  alltcp      5   \n",
       "\n",
       "                                               LabelStr  PktsPerSec  \\\n",
       "1975   flow=From-Botnet-V44-TCP-CC107-IRC-Not-Encrypted    0.022401   \n",
       "1976   flow=From-Botnet-V44-TCP-CC107-IRC-Not-Encrypted   49.979010   \n",
       "1978   flow=From-Botnet-V44-TCP-CC107-IRC-Not-Encrypted   49.979010   \n",
       "51590  flow=From-Botnet-V44-TCP-CC107-IRC-Not-Encrypted    0.062078   \n",
       "\n",
       "        BytesPerSec  SrcBytesPerSec  BytesPerPkt State_orig  \\\n",
       "1975       1.648452        1.050058    73.587500     alltcp   \n",
       "1976   14750.948178    14743.933560    88.585199     alltcp   \n",
       "1978   24906.267209    24906.267209    73.202824     alltcp   \n",
       "51590      5.494345        2.641583    88.506849     alltcp   \n",
       "\n",
       "                        Conversation  \n",
       "1975   41.232.73.23 -> 150.35.87.168  \n",
       "1976   41.232.73.23 -> 150.35.87.168  \n",
       "1978   41.232.73.23 -> 150.35.87.168  \n",
       "51590  41.232.73.23 -> 150.35.87.168  "
      ]
     },
     "execution_count": 97,
     "metadata": {},
     "output_type": "execute_result"
    }
   ],
   "source": [
    "df"
   ]
  },
  {
   "cell_type": "code",
   "execution_count": 98,
   "metadata": {},
   "outputs": [],
   "source": [
    "df['StartTimeInt'] = pd.to_datetime(df['StartTime']).astype(np.int64)*1e-9\n",
    "datetime_start = df['StartTimeInt'].min()\n",
    "\n",
    "df['Window_lower'] = (df['StartTimeInt'] - datetime_start - window_width) / window_stride + 1\n",
    "df['Window_lower'].clip(lower=0, inplace=True)\n",
    "df['Window_upper_excl'] = (df['StartTimeInt'] - datetime_start) / window_stride + 1\n",
    "df = df.astype({'Window_lower': int, 'Window_upper_excl': int})\n",
    "# df#.head()"
   ]
  },
  {
   "cell_type": "code",
   "execution_count": 99,
   "metadata": {},
   "outputs": [],
   "source": [
    "def RU(df):\n",
    "    if df.shape[0] == 1:\n",
    "        return 1.0\n",
    "    else:\n",
    "        proba = df.value_counts()/df.shape[0]\n",
    "        h = proba*np.log10(proba)\n",
    "        return -h.sum()/np.log10(df.shape[0])\n",
    "\n",
    "def top(df):\n",
    "    return df.mode()[0]\n",
    "\n",
    "def process_window(X, i):\n",
    "    if len(df.loc[(df['Window_lower'] <= i) & (df['Window_upper_excl'] > i)]) == 0:\n",
    "        return X\n",
    "\n",
    "    print('-----------------------\\nProcess window: ', i)\n",
    "\n",
    "    \"\"\" All flows from this SrcAddr in this time window \"\"\"\n",
    "    gb_SrcAddr = df.loc[(df['Window_lower'] <= i) & (df['Window_upper_excl'] > i)].groupby(['Conversation','SrcAddr','DstAddr','State','Proto'])\n",
    "\n",
    "    r = {\n",
    "        'StreamID': ['unique'],\n",
    "\n",
    "        'Sport': ['mean', 'max'],\n",
    "        \n",
    "        'PktsPerSec': ['mean'],\n",
    "        'BytesPerSec': ['mean', 'max'],\n",
    "        'SrcBytesPerSec': ['max'],\n",
    "        'BytesPerPkt': ['mean', 'max'],\n",
    "    }\n",
    "    \n",
    "    agg = gb_SrcAddr.agg(r)\n",
    "    agg['Label'] = gb_SrcAddr['Label'].agg(lambda x: x.mode()[0])\n",
    "\n",
    "    tmp = gb_SrcAddr.size().to_frame(name='n_flows').join(agg).reset_index().assign(window_id=i)\n",
    "    X = X.append(tmp)\n",
    "    del gb_SrcAddr\n",
    "\n",
    "    return X"
   ]
  },
  {
   "cell_type": "code",
   "execution_count": 100,
   "metadata": {},
   "outputs": [
    {
     "name": "stdout",
     "output_type": "stream",
     "text": [
      "-----------------------\n",
      "Process window:  0\n",
      "-----------------------\n",
      "Process window:  1\n"
     ]
    }
   ],
   "source": [
    "dfg = pd.DataFrame()\n",
    "for i in range(start_idx, end_idx):\n",
    "    dfg = process_window(dfg, i)"
   ]
  },
  {
   "cell_type": "code",
   "execution_count": 101,
   "metadata": {},
   "outputs": [
    {
     "data": {
      "text/html": [
       "<div>\n",
       "<style scoped>\n",
       "    .dataframe tbody tr th:only-of-type {\n",
       "        vertical-align: middle;\n",
       "    }\n",
       "\n",
       "    .dataframe tbody tr th {\n",
       "        vertical-align: top;\n",
       "    }\n",
       "\n",
       "    .dataframe thead th {\n",
       "        text-align: right;\n",
       "    }\n",
       "</style>\n",
       "<table border=\"1\" class=\"dataframe\">\n",
       "  <thead>\n",
       "    <tr style=\"text-align: right;\">\n",
       "      <th></th>\n",
       "      <th>Conversation</th>\n",
       "      <th>SrcAddr</th>\n",
       "      <th>DstAddr</th>\n",
       "      <th>State</th>\n",
       "      <th>Proto</th>\n",
       "      <th>n_flows</th>\n",
       "      <th>StreamID_unique</th>\n",
       "      <th>Sport_mean</th>\n",
       "      <th>Sport_max</th>\n",
       "      <th>PktsPerSec_mean</th>\n",
       "      <th>BytesPerSec_mean</th>\n",
       "      <th>BytesPerSec_max</th>\n",
       "      <th>SrcBytesPerSec_max</th>\n",
       "      <th>BytesPerPkt_mean</th>\n",
       "      <th>BytesPerPkt_max</th>\n",
       "      <th>Label</th>\n",
       "      <th>window_id</th>\n",
       "    </tr>\n",
       "  </thead>\n",
       "  <tbody>\n",
       "    <tr>\n",
       "      <th>0</th>\n",
       "      <td>41.232.73.23 -&gt; 150.35.87.168</td>\n",
       "      <td>41.232.73.23</td>\n",
       "      <td>150.35.87.168</td>\n",
       "      <td>alltcp</td>\n",
       "      <td>tcp</td>\n",
       "      <td>4</td>\n",
       "      <td>[1976, 1977, 1979, 51591]</td>\n",
       "      <td>6668.0</td>\n",
       "      <td>6669</td>\n",
       "      <td>25.010625</td>\n",
       "      <td>9916.089546</td>\n",
       "      <td>24906.267209</td>\n",
       "      <td>24906.267209</td>\n",
       "      <td>80.970593</td>\n",
       "      <td>88.585199</td>\n",
       "      <td>5</td>\n",
       "      <td>0</td>\n",
       "    </tr>\n",
       "  </tbody>\n",
       "</table>\n",
       "</div>"
      ],
      "text/plain": [
       "                    Conversation       SrcAddr        DstAddr   State Proto  \\\n",
       "0  41.232.73.23 -> 150.35.87.168  41.232.73.23  150.35.87.168  alltcp   tcp   \n",
       "\n",
       "   n_flows            StreamID_unique  Sport_mean  Sport_max  PktsPerSec_mean  \\\n",
       "0        4  [1976, 1977, 1979, 51591]      6668.0       6669        25.010625   \n",
       "\n",
       "   BytesPerSec_mean  BytesPerSec_max  SrcBytesPerSec_max  BytesPerPkt_mean  \\\n",
       "0       9916.089546     24906.267209        24906.267209         80.970593   \n",
       "\n",
       "   BytesPerPkt_max  Label  window_id  \n",
       "0        88.585199      5          0  "
      ]
     },
     "execution_count": 101,
     "metadata": {},
     "output_type": "execute_result"
    }
   ],
   "source": [
    "dfg.columns = ['_'.join(x) if isinstance(x, tuple) else x for x in dfg.columns.ravel()]\n",
    "dfg = dfg.rename(columns={'Label_': 'Label', 'SrcAddr_': 'SrcAddr', 'StartTime_min': 'StartTime_earliest', 'StartTime_max': 'StartTime_latest'})\n",
    "dfg = dfg.loc[dfg['n_flows'] > 1]\n",
    "dfg"
   ]
  },
  {
   "cell_type": "code",
   "execution_count": 102,
   "metadata": {},
   "outputs": [],
   "source": [
    "del df"
   ]
  },
  {
   "cell_type": "markdown",
   "metadata": {},
   "source": [
    "# Encode"
   ]
  },
  {
   "cell_type": "code",
   "execution_count": 103,
   "metadata": {},
   "outputs": [],
   "source": [
    "\"\"\" load the encoder \"\"\"\n",
    "import pickle\n",
    "\n",
    "ct_train = pickle.load(open(f'{data_dir}/{af}4-3.ohe.{pf}.pkl', 'rb'))\n",
    "ms = pickle.load(open(f'{data_dir}/{af}4-3.mms.{pf}.pkl', 'rb'))"
   ]
  },
  {
   "cell_type": "markdown",
   "metadata": {},
   "source": [
    "## One-hot endode"
   ]
  },
  {
   "cell_type": "code",
   "execution_count": 104,
   "metadata": {},
   "outputs": [],
   "source": [
    "dfg.loc[(dfg['State'].str.contains('_')), 'State'] = 'alltcp'"
   ]
  },
  {
   "cell_type": "code",
   "execution_count": 105,
   "metadata": {},
   "outputs": [
    {
     "name": "stdout",
     "output_type": "stream",
     "text": [
      "['alltcp']\n",
      "['tcp']\n"
     ]
    }
   ],
   "source": [
    "\"\"\" replace infrequent state with other \"\"\"\n",
    "common_state_list = list(dfg['State'].value_counts()[:20].index)\n",
    "print(common_state_list)\n",
    "dfg.loc[(~dfg['State'].str.contains('_')) & (~dfg['State'].isin(common_state_list)), 'State'] = 'other'\n",
    "\n",
    "\"\"\" replace infrequent proto with other \"\"\"\n",
    "common_proto_list = list(dfg['Proto'].value_counts()[:3].index)\n",
    "print(common_proto_list)\n",
    "dfg.loc[~dfg['Proto'].isin(common_proto_list), 'Proto'] = 'other'"
   ]
  },
  {
   "cell_type": "code",
   "execution_count": 106,
   "metadata": {},
   "outputs": [
    {
     "name": "stdout",
     "output_type": "stream",
     "text": [
      "proto_list ['udp', 'tcp', 'icmp', 'other']\n",
      "state_list ['CON', 'alltcp', 'INT', 'ECR', 'REQ', 'RED', 'ECO', 'URP', 'URH', 'RSP', 'TXD', 'URHPRO', 'URN', 'URO', 'URFIL', 'DCE', 'URF', 'nanvalue', 'other']\n",
      "categories [['udp', 'tcp', 'icmp', 'other'], ['CON', 'alltcp', 'INT', 'ECR', 'REQ', 'RED', 'ECO', 'URP', 'URH', 'RSP', 'TXD', 'URHPRO', 'URN', 'URO', 'URFIL', 'DCE', 'URF', 'nanvalue', 'other']]\n",
      "onehot_cols ['P_udp', 'P_tcp', 'P_icmp', 'P_other', 'S_CON', 'S_alltcp', 'S_INT', 'S_ECR', 'S_REQ', 'S_RED', 'S_ECO', 'S_URP', 'S_URH', 'S_RSP', 'S_TXD', 'S_URHPRO', 'S_URN', 'S_URO', 'S_URFIL', 'S_DCE', 'S_URF', 'S_nanvalue', 'S_other']\n"
     ]
    }
   ],
   "source": [
    "\"\"\" get categories to encode \"\"\"\n",
    "#? get these values from u4-3.enc when encoding train data.\n",
    "common_proto_list = ['udp', 'tcp', 'icmp']\n",
    "common_state_list = ['CON', 'alltcp', 'INT', 'ECR', 'REQ', 'RED', 'ECO', 'URP', 'URH', 'RSP', 'TXD', 'URHPRO', 'URN', 'URO', 'URFIL', 'DCE', 'URF', 'nanvalue']\n",
    "\n",
    "proto_list = common_proto_list + ['other']\n",
    "state_list = common_state_list + ['other']\n",
    "categories = [proto_list, state_list]\n",
    "\n",
    "onehot_cols_proto = ['P_'+p for p in proto_list]\n",
    "onehot_cols_state = ['S_'+p for p in state_list]\n",
    "onehot_cols = onehot_cols_proto + onehot_cols_state\n",
    "\n",
    "print('proto_list', proto_list)\n",
    "print('state_list', state_list)\n",
    "print('categories', categories)\n",
    "print('onehot_cols', onehot_cols)\n",
    "\n",
    "Xstr_enc = ct_train.transform(dfg[['Proto','State']])\n",
    "Xstr_enc = Xstr_enc.astype('float64').toarray()\n",
    "df_Xstr_enc = pd.DataFrame(Xstr_enc, columns=onehot_cols)"
   ]
  },
  {
   "cell_type": "code",
   "execution_count": 107,
   "metadata": {},
   "outputs": [
    {
     "data": {
      "text/html": [
       "<div>\n",
       "<style scoped>\n",
       "    .dataframe tbody tr th:only-of-type {\n",
       "        vertical-align: middle;\n",
       "    }\n",
       "\n",
       "    .dataframe tbody tr th {\n",
       "        vertical-align: top;\n",
       "    }\n",
       "\n",
       "    .dataframe thead th {\n",
       "        text-align: right;\n",
       "    }\n",
       "</style>\n",
       "<table border=\"1\" class=\"dataframe\">\n",
       "  <thead>\n",
       "    <tr style=\"text-align: right;\">\n",
       "      <th></th>\n",
       "      <th>Conversation</th>\n",
       "      <th>SrcAddr</th>\n",
       "      <th>DstAddr</th>\n",
       "      <th>State</th>\n",
       "      <th>Proto</th>\n",
       "      <th>n_flows</th>\n",
       "      <th>StreamID_unique</th>\n",
       "      <th>Sport_mean</th>\n",
       "      <th>Sport_max</th>\n",
       "      <th>PktsPerSec_mean</th>\n",
       "      <th>...</th>\n",
       "      <th>S_RSP</th>\n",
       "      <th>S_TXD</th>\n",
       "      <th>S_URHPRO</th>\n",
       "      <th>S_URN</th>\n",
       "      <th>S_URO</th>\n",
       "      <th>S_URFIL</th>\n",
       "      <th>S_DCE</th>\n",
       "      <th>S_URF</th>\n",
       "      <th>S_nanvalue</th>\n",
       "      <th>S_other</th>\n",
       "    </tr>\n",
       "  </thead>\n",
       "  <tbody>\n",
       "    <tr>\n",
       "      <th>0</th>\n",
       "      <td>41.232.73.23 -&gt; 150.35.87.168</td>\n",
       "      <td>41.232.73.23</td>\n",
       "      <td>150.35.87.168</td>\n",
       "      <td>alltcp</td>\n",
       "      <td>tcp</td>\n",
       "      <td>4</td>\n",
       "      <td>[1976, 1977, 1979, 51591]</td>\n",
       "      <td>6668.0</td>\n",
       "      <td>6669</td>\n",
       "      <td>25.010625</td>\n",
       "      <td>...</td>\n",
       "      <td>0.0</td>\n",
       "      <td>0.0</td>\n",
       "      <td>0.0</td>\n",
       "      <td>0.0</td>\n",
       "      <td>0.0</td>\n",
       "      <td>0.0</td>\n",
       "      <td>0.0</td>\n",
       "      <td>0.0</td>\n",
       "      <td>0.0</td>\n",
       "      <td>0.0</td>\n",
       "    </tr>\n",
       "  </tbody>\n",
       "</table>\n",
       "<p>1 rows × 40 columns</p>\n",
       "</div>"
      ],
      "text/plain": [
       "                    Conversation       SrcAddr        DstAddr   State Proto  \\\n",
       "0  41.232.73.23 -> 150.35.87.168  41.232.73.23  150.35.87.168  alltcp   tcp   \n",
       "\n",
       "   n_flows            StreamID_unique  Sport_mean  Sport_max  PktsPerSec_mean  \\\n",
       "0        4  [1976, 1977, 1979, 51591]      6668.0       6669        25.010625   \n",
       "\n",
       "   ...  S_RSP  S_TXD  S_URHPRO  S_URN  S_URO  S_URFIL  S_DCE  S_URF  \\\n",
       "0  ...    0.0    0.0       0.0    0.0    0.0      0.0    0.0    0.0   \n",
       "\n",
       "   S_nanvalue  S_other  \n",
       "0         0.0      0.0  \n",
       "\n",
       "[1 rows x 40 columns]"
      ]
     },
     "execution_count": 107,
     "metadata": {},
     "output_type": "execute_result"
    }
   ],
   "source": [
    "dfg = pd.concat([dfg.reset_index(), df_Xstr_enc], axis=1).drop(columns=['index'])\n",
    "dfg.head()"
   ]
  },
  {
   "cell_type": "markdown",
   "metadata": {},
   "source": [
    "## Numeric"
   ]
  },
  {
   "cell_type": "code",
   "execution_count": 108,
   "metadata": {},
   "outputs": [],
   "source": [
    "numeric_cols = [\n",
    "       'n_flows',\n",
    "       'Sport_mean','Sport_max',\n",
    "       'BytesPerPkt_mean','PktsPerSec_mean','BytesPerSec_mean','BytesPerPkt_max','BytesPerSec_max','SrcBytesPerSec_max',\n",
    "]\n",
    "dfg[numeric_cols] = ms.transform(dfg[numeric_cols].values)"
   ]
  },
  {
   "cell_type": "markdown",
   "metadata": {},
   "source": [
    "## X y"
   ]
  },
  {
   "cell_type": "code",
   "execution_count": 109,
   "metadata": {},
   "outputs": [
    {
     "name": "stdout",
     "output_type": "stream",
     "text": [
      "(1, 32) (1,)\n"
     ]
    }
   ],
   "source": [
    "fts_cols = numeric_cols + onehot_cols\n",
    "X, y = dfg[fts_cols].values, dfg['Label'].values\n",
    "\n",
    "y[y != 5] = 0\n",
    "y[y == 5] = 1\n",
    "\n",
    "print(X.shape, y.shape)"
   ]
  },
  {
   "cell_type": "code",
   "execution_count": 110,
   "metadata": {},
   "outputs": [
    {
     "data": {
      "text/plain": [
       "array([[4.65213649e-05, 1.01746382e-01, 1.01759312e-01, 5.28652307e-02,\n",
       "        5.00845904e-05, 5.00180146e-05, 5.65317160e-02, 8.44540544e-05,\n",
       "        8.44778980e-05, 0.00000000e+00, 1.00000000e+00, 0.00000000e+00,\n",
       "        0.00000000e+00, 0.00000000e+00, 1.00000000e+00, 0.00000000e+00,\n",
       "        0.00000000e+00, 0.00000000e+00, 0.00000000e+00, 0.00000000e+00,\n",
       "        0.00000000e+00, 0.00000000e+00, 0.00000000e+00, 0.00000000e+00,\n",
       "        0.00000000e+00, 0.00000000e+00, 0.00000000e+00, 0.00000000e+00,\n",
       "        0.00000000e+00, 0.00000000e+00, 0.00000000e+00, 0.00000000e+00]])"
      ]
     },
     "execution_count": 110,
     "metadata": {},
     "output_type": "execute_result"
    }
   ],
   "source": [
    "X"
   ]
  },
  {
   "cell_type": "code",
   "execution_count": 111,
   "metadata": {},
   "outputs": [],
   "source": [
    "del dfg"
   ]
  },
  {
   "cell_type": "markdown",
   "metadata": {},
   "source": [
    "# Detect"
   ]
  },
  {
   "cell_type": "code",
   "execution_count": 112,
   "metadata": {},
   "outputs": [],
   "source": [
    "\"\"\" load the model \"\"\"\n",
    "import pickle\n",
    "\n",
    "model = pickle.load(open(f'{result_dir}/{af}4-5.{pf}.model_lr.{ra}.pkl', 'rb'))"
   ]
  },
  {
   "cell_type": "code",
   "execution_count": 113,
   "metadata": {},
   "outputs": [
    {
     "name": "stdout",
     "output_type": "stream",
     "text": [
      "[3, 4, 5, 2, 1, 0, 6, 7, 8, 10, 9, 12, 13, 14, 15, 18, 31, 19]\n",
      "(1, 18)\n"
     ]
    }
   ],
   "source": [
    "\"\"\" choose what features to feed the model \"\"\"\n",
    "selected_fts = [\n",
    "    'BytesPerPkt_mean',\n",
    "    'PktsPerSec_mean','BytesPerSec_mean',\n",
    "    'Sport_max','Sport_mean',\n",
    "    'n_flows',\n",
    "    'BytesPerPkt_max','BytesPerSec_max','SrcBytesPerSec_max',\n",
    "    'P_tcp','P_udp','P_other',\n",
    "\n",
    "    'S_CON', 'S_alltcp', 'S_INT', 'S_RED', 'S_other', 'S_ECO', \n",
    "]\n",
    "\n",
    "#? index of top features\n",
    "ft_idx = [fts_cols.index(ft) for ft in selected_fts]\n",
    "print(ft_idx)\n",
    "\n",
    "X = X[:,ft_idx]\n",
    "print(X.shape)"
   ]
  },
  {
   "cell_type": "code",
   "execution_count": 114,
   "metadata": {},
   "outputs": [
    {
     "name": "stdout",
     "output_type": "stream",
     "text": [
      "y true [1]\n",
      "y pred [0]\n"
     ]
    }
   ],
   "source": [
    "\"\"\" check output of the model \"\"\"\n",
    "y_pred = model.predict(X)\n",
    "print('y true', y) \n",
    "print('y pred', y_pred)"
   ]
  },
  {
   "cell_type": "markdown",
   "metadata": {},
   "source": [
    "The model is exploited successfully."
   ]
  },
  {
   "cell_type": "code",
   "execution_count": 115,
   "metadata": {},
   "outputs": [],
   "source": [
    "#? save ?\n",
    "np.save(f'{result_dir}/{test_attack_csvname}.X.npy', X)\n",
    "np.save(f'{result_dir}/{test_attack_csvname}.y.npy', y)"
   ]
  }
 ],
 "metadata": {
  "interpreter": {
   "hash": "ee5cc6fef2d70a7e71ee3826687cbd150f18158e0b1eef11d4f4f92bb920e304"
  },
  "kernelspec": {
   "display_name": "Python 3.9.6 64-bit",
   "language": "python",
   "name": "python3"
  },
  "language_info": {
   "codemirror_mode": {
    "name": "ipython",
    "version": 3
   },
   "file_extension": ".py",
   "mimetype": "text/x-python",
   "name": "python",
   "nbconvert_exporter": "python",
   "pygments_lexer": "ipython3",
   "version": "3.9.6"
  },
  "orig_nbformat": 4
 },
 "nbformat": 4,
 "nbformat_minor": 2
}
