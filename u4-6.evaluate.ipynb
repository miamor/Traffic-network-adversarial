{
 "cells": [
  {
   "cell_type": "code",
   "execution_count": 125,
   "metadata": {},
   "outputs": [],
   "source": [
    "# # Load the Drive helper and mount\n",
    "# from google.colab import drive\n",
    "\n",
    "# # This will prompt for authorization.\n",
    "# drive.mount('/content/drive')\n",
    "\n",
    "# %cd '/content/drive/MyDrive/Colab Notebooks/C73_A2_1/data'\n",
    "# !ls\n",
    "\n",
    "# data_dir = '/content/drive/MyDrive/Colab Notebooks/C73_A2_1/data'\n",
    "# result_dir = '/content/drive/MyDrive/Colab Notebooks/C73_A2_1/result'"
   ]
  },
  {
   "cell_type": "code",
   "execution_count": 126,
   "metadata": {},
   "outputs": [],
   "source": [
    "data_dir = 'data'\n",
    "result_dir = 'result'"
   ]
  },
  {
   "cell_type": "markdown",
   "metadata": {},
   "source": [
    "# Import"
   ]
  },
  {
   "cell_type": "code",
   "execution_count": 127,
   "metadata": {},
   "outputs": [],
   "source": [
    "import pandas as pd\n",
    "import numpy as np\n",
    "import matplotlib.pyplot as plt\n",
    "import pickle\n",
    "from IPython.display import display\n",
    "\n",
    "import warnings\n",
    "warnings.filterwarnings(\"ignore\")"
   ]
  },
  {
   "cell_type": "markdown",
   "metadata": {},
   "source": [
    "# Read data"
   ]
  },
  {
   "cell_type": "code",
   "execution_count": 128,
   "metadata": {},
   "outputs": [],
   "source": [
    "\"\"\" Load original data (aggregated and unaggregated) \"\"\"\n",
    "af = 'u'\n",
    "\n",
    "pf1 = '7200-3600'\n",
    "pf = f'{pf1}.__2__'\n",
    "ra = '__97.39__'\n",
    "\n",
    "df = pd.read_csv(f'{data_dir}/t.{af}4.{pf1}.csv', index_col=[0]).reset_index().drop(columns=['index'])\n",
    "# dfo = pd.read_csv(f'{data_dir}/t.{af}1.csv', index_col=[0])\n",
    "# dfo.head()"
   ]
  },
  {
   "cell_type": "code",
   "execution_count": 129,
   "metadata": {},
   "outputs": [],
   "source": [
    "\"\"\" Load model \"\"\"\n",
    "model = pickle.load(open(f'{result_dir}/{af}4-5.{pf}.model_lr.{ra}.pkl', 'rb'))\n",
    "\n",
    "\"\"\" Load preprocessed data used for feeding the model \"\"\"\n",
    "X_test = np.load(f'{result_dir}/{af}4-5.{pf}.data_lr.{ra}.t.X.npy')\n",
    "y_test = np.load(f'{result_dir}/{af}4-5.{pf}.data_lr.{ra}.t.y.npy')\n",
    "\n",
    "\"\"\" Load predicted output for test set \"\"\"\n",
    "y_pred = np.load(f'{result_dir}/{af}4-5.{pf}.output_lr.{ra}.t.y_pred.npy')\n",
    "\n",
    "\"\"\" Load used features \"\"\"\n",
    "fts_names = [line.strip() for line in open(f'{data_dir}/{af}4-3.fts_cols.{pf}.txt').readlines()]"
   ]
  },
  {
   "cell_type": "code",
   "execution_count": 130,
   "metadata": {},
   "outputs": [
    {
     "name": "stdout",
     "output_type": "stream",
     "text": [
      "18226\n"
     ]
    }
   ],
   "source": [
    "print(len(df))"
   ]
  },
  {
   "cell_type": "markdown",
   "metadata": {},
   "source": [
    "# Evaluate the model"
   ]
  },
  {
   "cell_type": "code",
   "execution_count": 131,
   "metadata": {},
   "outputs": [],
   "source": [
    "from sklearn.metrics import classification_report, confusion_matrix, PrecisionRecallDisplay, roc_auc_score\n",
    "\n",
    "def evaluate(y_true, y_pred):\n",
    "    cm = confusion_matrix(y_true, y_pred)\n",
    "    print(cm)\n",
    "    print(classification_report(y_true, y_pred, digits=4))\n",
    "    roc_auc = roc_auc_score(y_true, y_pred)\n",
    "    print(roc_auc)\n",
    "\n",
    "    # display = PrecisionRecallDisplay.from_predictions(y_true, y_pred, name=\"LinearSVC\")\n",
    "    # _ = display.ax_.set_title(\"2-class Precision-Recall curve\")"
   ]
  },
  {
   "cell_type": "code",
   "execution_count": 132,
   "metadata": {},
   "outputs": [
    {
     "name": "stdout",
     "output_type": "stream",
     "text": [
      "[[17219   947]\n",
      " [    0    60]]\n",
      "              precision    recall  f1-score   support\n",
      "\n",
      "           0     1.0000    0.9479    0.9732     18166\n",
      "           1     0.0596    1.0000    0.1125        60\n",
      "\n",
      "    accuracy                         0.9480     18226\n",
      "   macro avg     0.5298    0.9739    0.5429     18226\n",
      "weighted avg     0.9969    0.9480    0.9704     18226\n",
      "\n",
      "0.9739348232962677\n"
     ]
    }
   ],
   "source": [
    "evaluate(y_test, y_pred)"
   ]
  },
  {
   "cell_type": "markdown",
   "metadata": {},
   "source": [
    "# Set threshold"
   ]
  },
  {
   "cell_type": "code",
   "execution_count": 133,
   "metadata": {},
   "outputs": [],
   "source": [
    "\"\"\" Update result based on score. Only those have bot score (score for class 1) > 0.75 are marked as bot \"\"\"\n",
    "y_bot_score = model.predict_proba(X_test)[:,1]\n",
    "\n",
    "df_pred = pd.DataFrame(y_pred, columns=['Label_Pred'])\n",
    "df_bot_score = pd.DataFrame(y_bot_score, columns=['Bot_Score'])\n",
    "\n",
    "dfn = pd.concat([df.reset_index(), df_pred, df_bot_score], axis=1).drop(columns=['index'])\n",
    "\n",
    "dfn['Label_Pred_Thresh'] = 0\n",
    "dfn.loc[dfn['Bot_Score'] > 0.75, 'Label_Pred_Thresh'] = 1"
   ]
  },
  {
   "cell_type": "code",
   "execution_count": 135,
   "metadata": {},
   "outputs": [
    {
     "name": "stdout",
     "output_type": "stream",
     "text": [
      "[[17475   691]\n",
      " [    0    60]]\n",
      "              precision    recall  f1-score   support\n",
      "\n",
      "           0     1.0000    0.9620    0.9806     18166\n",
      "           1     0.0799    1.0000    0.1480        60\n",
      "\n",
      "    accuracy                         0.9621     18226\n",
      "   macro avg     0.5399    0.9810    0.5643     18226\n",
      "weighted avg     0.9970    0.9621    0.9779     18226\n",
      "\n",
      "0.9809809534294837\n"
     ]
    }
   ],
   "source": [
    "evaluate(y_test, dfn['Label_Pred_Thresh'].values)"
   ]
  },
  {
   "cell_type": "code",
   "execution_count": 136,
   "metadata": {},
   "outputs": [],
   "source": [
    "# dfn.loc[dfn['Label'] == 5]"
   ]
  },
  {
   "cell_type": "markdown",
   "metadata": {},
   "source": [
    "# Analysis on detected records"
   ]
  },
  {
   "cell_type": "code",
   "execution_count": 137,
   "metadata": {},
   "outputs": [
    {
     "data": {
      "text/html": [
       "<div>\n",
       "<style scoped>\n",
       "    .dataframe tbody tr th:only-of-type {\n",
       "        vertical-align: middle;\n",
       "    }\n",
       "\n",
       "    .dataframe tbody tr th {\n",
       "        vertical-align: top;\n",
       "    }\n",
       "\n",
       "    .dataframe thead th {\n",
       "        text-align: right;\n",
       "    }\n",
       "</style>\n",
       "<table border=\"1\" class=\"dataframe\">\n",
       "  <thead>\n",
       "    <tr style=\"text-align: right;\">\n",
       "      <th></th>\n",
       "      <th>n_agg_total</th>\n",
       "      <th>n_agg_detected</th>\n",
       "      <th>n_flows_total</th>\n",
       "      <th>n_flows_detected</th>\n",
       "      <th>p_agg</th>\n",
       "    </tr>\n",
       "  </thead>\n",
       "  <tbody>\n",
       "    <tr>\n",
       "      <th>41.232.73.23 -&gt; 150.35.87.168</th>\n",
       "      <td>60</td>\n",
       "      <td>60</td>\n",
       "      <td>120</td>\n",
       "      <td>120</td>\n",
       "      <td>1.000000</td>\n",
       "    </tr>\n",
       "    <tr>\n",
       "      <th>150.35.87.62 -&gt; 189.216.27.38</th>\n",
       "      <td>5</td>\n",
       "      <td>5</td>\n",
       "      <td>28</td>\n",
       "      <td>28</td>\n",
       "      <td>1.000000</td>\n",
       "    </tr>\n",
       "    <tr>\n",
       "      <th>150.35.87.62 -&gt; 101.204.145.180</th>\n",
       "      <td>4</td>\n",
       "      <td>4</td>\n",
       "      <td>10</td>\n",
       "      <td>10</td>\n",
       "      <td>1.000000</td>\n",
       "    </tr>\n",
       "    <tr>\n",
       "      <th>150.35.87.62 -&gt; 210.49.127.175</th>\n",
       "      <td>4</td>\n",
       "      <td>4</td>\n",
       "      <td>10</td>\n",
       "      <td>10</td>\n",
       "      <td>1.000000</td>\n",
       "    </tr>\n",
       "    <tr>\n",
       "      <th>150.35.87.62 -&gt; 44.135.158.222</th>\n",
       "      <td>4</td>\n",
       "      <td>4</td>\n",
       "      <td>19</td>\n",
       "      <td>19</td>\n",
       "      <td>1.000000</td>\n",
       "    </tr>\n",
       "    <tr>\n",
       "      <th>...</th>\n",
       "      <td>...</td>\n",
       "      <td>...</td>\n",
       "      <td>...</td>\n",
       "      <td>...</td>\n",
       "      <td>...</td>\n",
       "    </tr>\n",
       "    <tr>\n",
       "      <th>150.35.87.174 -&gt; 72.168.158.73</th>\n",
       "      <td>15</td>\n",
       "      <td>1</td>\n",
       "      <td>200</td>\n",
       "      <td>2</td>\n",
       "      <td>0.066667</td>\n",
       "    </tr>\n",
       "    <tr>\n",
       "      <th>150.35.87.62 -&gt; 77.128.235.216</th>\n",
       "      <td>15</td>\n",
       "      <td>1</td>\n",
       "      <td>498</td>\n",
       "      <td>2</td>\n",
       "      <td>0.066667</td>\n",
       "    </tr>\n",
       "    <tr>\n",
       "      <th>150.35.87.62 -&gt; 209.3.175.130</th>\n",
       "      <td>44</td>\n",
       "      <td>2</td>\n",
       "      <td>88</td>\n",
       "      <td>4</td>\n",
       "      <td>0.045455</td>\n",
       "    </tr>\n",
       "    <tr>\n",
       "      <th>150.35.87.174 -&gt; 150.35.83.12</th>\n",
       "      <td>69</td>\n",
       "      <td>2</td>\n",
       "      <td>65130</td>\n",
       "      <td>4</td>\n",
       "      <td>0.028986</td>\n",
       "    </tr>\n",
       "    <tr>\n",
       "      <th>150.35.87.174 -&gt; 88.229.62.197</th>\n",
       "      <td>53</td>\n",
       "      <td>1</td>\n",
       "      <td>914</td>\n",
       "      <td>2</td>\n",
       "      <td>0.018868</td>\n",
       "    </tr>\n",
       "  </tbody>\n",
       "</table>\n",
       "<p>361 rows × 5 columns</p>\n",
       "</div>"
      ],
      "text/plain": [
       "                                 n_agg_total  n_agg_detected  n_flows_total  \\\n",
       "41.232.73.23 -> 150.35.87.168             60              60            120   \n",
       "150.35.87.62 -> 189.216.27.38              5               5             28   \n",
       "150.35.87.62 -> 101.204.145.180            4               4             10   \n",
       "150.35.87.62 -> 210.49.127.175             4               4             10   \n",
       "150.35.87.62 -> 44.135.158.222             4               4             19   \n",
       "...                                      ...             ...            ...   \n",
       "150.35.87.174 -> 72.168.158.73            15               1            200   \n",
       "150.35.87.62 -> 77.128.235.216            15               1            498   \n",
       "150.35.87.62 -> 209.3.175.130             44               2             88   \n",
       "150.35.87.174 -> 150.35.83.12             69               2          65130   \n",
       "150.35.87.174 -> 88.229.62.197            53               1            914   \n",
       "\n",
       "                                 n_flows_detected     p_agg  \n",
       "41.232.73.23 -> 150.35.87.168                 120  1.000000  \n",
       "150.35.87.62 -> 189.216.27.38                  28  1.000000  \n",
       "150.35.87.62 -> 101.204.145.180                10  1.000000  \n",
       "150.35.87.62 -> 210.49.127.175                 10  1.000000  \n",
       "150.35.87.62 -> 44.135.158.222                 19  1.000000  \n",
       "...                                           ...       ...  \n",
       "150.35.87.174 -> 72.168.158.73                  2  0.066667  \n",
       "150.35.87.62 -> 77.128.235.216                  2  0.066667  \n",
       "150.35.87.62 -> 209.3.175.130                   4  0.045455  \n",
       "150.35.87.174 -> 150.35.83.12                   4  0.028986  \n",
       "150.35.87.174 -> 88.229.62.197                  2  0.018868  \n",
       "\n",
       "[361 rows x 5 columns]"
      ]
     },
     "execution_count": 137,
     "metadata": {},
     "output_type": "execute_result"
    }
   ],
   "source": [
    "\"\"\" \n",
    "For each IP detected as botnet, \n",
    "check how many records of this IP are classified as malicious,\n",
    "=> how many flows of this IP are classified as malicious\n",
    "\"\"\"\n",
    "pred_field = 'Label_Pred_Thresh'\n",
    "detected_gb_src = dfn.loc[(dfn[pred_field] == 1)].groupby(['Conversation'])\n",
    "\n",
    "# df_result_conv = pd.DataFrame()\n",
    "rows = {}\n",
    "\n",
    "for key,item in detected_gb_src:\n",
    "    n_agg = len(dfn.loc[dfn['Conversation'] == key])\n",
    "    n_agg_detected = len(dfn.loc[(dfn[pred_field] == 1) & (dfn['Conversation'] == key)])\n",
    "    n_flows = dfn.loc[(dfn['Conversation'] == key)]['n_flows'].sum()\n",
    "    n_flows_detected = dfn.loc[(dfn[pred_field] == 1) & (dfn['Conversation'] == key)]['n_flows'].sum()\n",
    "\n",
    "    p_agg = n_agg_detected/n_agg\n",
    "\n",
    "    rows[key] = {\n",
    "        'n_agg_total': n_agg,\n",
    "        'n_agg_detected': n_agg_detected,\n",
    "        'n_flows_total': n_flows,\n",
    "        'n_flows_detected': n_flows_detected,\n",
    "        'p_agg': p_agg\n",
    "    }\n",
    "\n",
    "df_result_conv = pd.DataFrame.from_dict(rows, orient='index').sort_values(['p_agg','n_agg_detected','n_agg_total'], ascending=[False, False, False])\n",
    "df_result_conv"
   ]
  },
  {
   "cell_type": "markdown",
   "metadata": {},
   "source": [
    "Conversation `41.232.73.23 -> 150.35.87.168`'s number of records and flows being detected as bot is much higher than the rest.  \n",
    "We'll choose this conversation to generate adversarial samples.  "
   ]
  }
 ],
 "metadata": {
  "interpreter": {
   "hash": "ee5cc6fef2d70a7e71ee3826687cbd150f18158e0b1eef11d4f4f92bb920e304"
  },
  "kernelspec": {
   "display_name": "Python 3.9.6 64-bit",
   "language": "python",
   "name": "python3"
  },
  "language_info": {
   "codemirror_mode": {
    "name": "ipython",
    "version": 3
   },
   "file_extension": ".py",
   "mimetype": "text/x-python",
   "name": "python",
   "nbconvert_exporter": "python",
   "pygments_lexer": "ipython3",
   "version": "3.9.6"
  },
  "orig_nbformat": 4
 },
 "nbformat": 4,
 "nbformat_minor": 2
}
